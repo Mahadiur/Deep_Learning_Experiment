{
 "cells": [
  {
   "metadata": {},
   "cell_type": "markdown",
   "source": "# **Experiment Track with using MLFlow**",
   "id": "a475f08938d34721"
  },
  {
   "metadata": {
    "ExecuteTime": {
     "end_time": "2025-08-27T13:48:23.747216Z",
     "start_time": "2025-08-27T13:48:23.743995Z"
    }
   },
   "cell_type": "code",
   "source": [
    "from tkinter.scrolledtext import example\n",
    "\n",
    "from sympy import print_tree\n",
    "\n",
    "''' Import all important libraries '''\n",
    "import os\n",
    "import pandas as pd\n",
    "import torch\n",
    "import torch.nn as nn\n",
    "from torchvision import transforms\n",
    "from torch.utils.data import Dataset, random_split, DataLoader\n",
    "from pytorch_lightning.callbacks import ModelCheckpoint, EarlyStopping\n",
    "import pytorch_lightning as pl\n",
    "import mlflow\n",
    "from mlflow.models import infer_signature"
   ],
   "id": "da5a6179c1c5ce61",
   "outputs": [],
   "execution_count": 110
  },
  {
   "metadata": {
    "ExecuteTime": {
     "end_time": "2025-08-27T13:48:23.757493Z",
     "start_time": "2025-08-27T13:48:23.755170Z"
    }
   },
   "cell_type": "code",
   "source": [
    "Device = (torch.device('mps') if torch.mps.is_available() else torch.device('cpu'))\n",
    "print(Device)"
   ],
   "id": "e71e998ec1098023",
   "outputs": [
    {
     "name": "stdout",
     "output_type": "stream",
     "text": [
      "mps\n"
     ]
    }
   ],
   "execution_count": 111
  },
  {
   "metadata": {
    "ExecuteTime": {
     "end_time": "2025-08-27T13:48:23.766259Z",
     "start_time": "2025-08-27T13:48:23.763423Z"
    }
   },
   "cell_type": "code",
   "source": [
    "''' Hyperparameters '''\n",
    "torch.manual_seed(40)\n",
    "Batch_size = 32\n",
    "Epochs = 5\n",
    "Learning_Rate = 0.001"
   ],
   "id": "49f6c846e27d01c0",
   "outputs": [],
   "execution_count": 112
  },
  {
   "metadata": {
    "ExecuteTime": {
     "end_time": "2025-08-27T13:48:23.770561Z",
     "start_time": "2025-08-27T13:48:23.768553Z"
    }
   },
   "cell_type": "code",
   "source": [
    "''' Load data and define Source code path '''\n",
    "Root_path = '/Users/mahadiur/Desktop/Experiment Track Using MLFlow/Data'\n",
    "dataset_path = os.path.join(Root_path, 'DigitDataset.csv')\n",
    "\n",
    "saved_model_dir = 'models'\n",
    "source_code_path = os.path.join(\n",
    "    os.getcwd(),\n",
    "    'Experiment_Track_Using_MLFlow.ipynb'\n",
    ") # current file path\n",
    "\n",
    "source_code = 'trainer.ipynb'"
   ],
   "id": "e48339de396455bd",
   "outputs": [],
   "execution_count": 113
  },
  {
   "metadata": {},
   "cell_type": "markdown",
   "source": "# **Data Pipeline**",
   "id": "a6cef2a99b7b9947"
  },
  {
   "metadata": {
    "ExecuteTime": {
     "end_time": "2025-08-27T13:48:24.348196Z",
     "start_time": "2025-08-27T13:48:23.772615Z"
    }
   },
   "cell_type": "code",
   "source": [
    "digit_data = pd.read_csv(dataset_path)\n",
    "example = digit_data.iloc[0]\n",
    "pixel = example.values[1:]\n",
    "label = int(example.values[0:1])\n",
    "print(pixel.shape)\n",
    "print(label)"
   ],
   "id": "711b876743f235fa",
   "outputs": [
    {
     "name": "stdout",
     "output_type": "stream",
     "text": [
      "(784,)\n",
      "1\n"
     ]
    },
    {
     "name": "stderr",
     "output_type": "stream",
     "text": [
      "/var/folders/s5/yp49k9zd4457sltd30xmn_2m0000gn/T/ipykernel_3313/1057430082.py:4: DeprecationWarning: Conversion of an array with ndim > 0 to a scalar is deprecated, and will error in future. Ensure you extract a single element from your array before performing this operation. (Deprecated NumPy 1.25.)\n",
      "  label = int(example.values[0:1])\n"
     ]
    }
   ],
   "execution_count": 114
  },
  {
   "metadata": {
    "ExecuteTime": {
     "end_time": "2025-08-27T13:48:24.352995Z",
     "start_time": "2025-08-27T13:48:24.351Z"
    }
   },
   "cell_type": "code",
   "source": [
    "class DataPipeline(Dataset):\n",
    "    def __init__(self, data_path, transform=None):\n",
    "        super().__init__()\n",
    "        self.data = pd.read_csv(data_path)\n",
    "        self.transformation = transform\n",
    "\n",
    "    def __len__(self):\n",
    "        return len(self.data)\n",
    "\n",
    "    def __getitem__(self, idx):\n",
    "        example = self.data.iloc[idx]\n",
    "        pixels = example.values[1:].astype('float32')\n",
    "        pixels /= 255\n",
    "        labels = int(example[0:1])\n",
    "\n",
    "        pixels = torch.tensor(pixels).reshape(28, 28).unsqueeze(0)\n",
    "        labels = torch.tensor(labels)\n",
    "\n",
    "\n",
    "        if self.transformation:\n",
    "            pixels = self.transformation(pixels)\n",
    "\n",
    "        return  pixels, labels"
   ],
   "id": "c8e166660d6b46cf",
   "outputs": [],
   "execution_count": 115
  },
  {
   "metadata": {
    "ExecuteTime": {
     "end_time": "2025-08-27T13:48:24.358215Z",
     "start_time": "2025-08-27T13:48:24.356626Z"
    }
   },
   "cell_type": "code",
   "source": [
    "Transformation = transforms.Compose([\n",
    "    transforms.Normalize(\n",
    "        mean=(torch.tensor([0.1307])),\n",
    "        std=(torch.tensor([0.3081])),\n",
    "    )\n",
    "])"
   ],
   "id": "42f867673fb89c43",
   "outputs": [],
   "execution_count": 116
  },
  {
   "metadata": {
    "ExecuteTime": {
     "end_time": "2025-08-27T13:48:24.918756Z",
     "start_time": "2025-08-27T13:48:24.359880Z"
    }
   },
   "cell_type": "code",
   "source": [
    "dataset = DataPipeline(\n",
    "    dataset_path,\n",
    "    Transformation\n",
    ")\n",
    "print(len(dataset))"
   ],
   "id": "57516332f047fcd",
   "outputs": [
    {
     "name": "stdout",
     "output_type": "stream",
     "text": [
      "42000\n"
     ]
    }
   ],
   "execution_count": 117
  },
  {
   "metadata": {},
   "cell_type": "markdown",
   "source": "# **Split Train, Test & Validation**",
   "id": "1599d9c420d1256a"
  },
  {
   "metadata": {
    "ExecuteTime": {
     "end_time": "2025-08-27T13:48:24.927379Z",
     "start_time": "2025-08-27T13:48:24.924683Z"
    }
   },
   "cell_type": "code",
   "source": [
    "Train_size = int(0.7 * len(dataset))\n",
    "Validation_size = int(0.15 * len(dataset))\n",
    "Test_size = len(dataset) - Train_size - Validation_size\n",
    "\n",
    "Training_dataset, Validation_dataset, Test_dataset = random_split(\n",
    "    dataset=dataset,\n",
    "    lengths=[Train_size, Validation_size, Test_size],\n",
    ")\n",
    "\n",
    "print(len(Training_dataset))\n",
    "print(len(Validation_dataset))\n",
    "print(len(Test_dataset))"
   ],
   "id": "db0ef449c14c1c4d",
   "outputs": [
    {
     "name": "stdout",
     "output_type": "stream",
     "text": [
      "29399\n",
      "6300\n",
      "6301\n"
     ]
    }
   ],
   "execution_count": 118
  },
  {
   "metadata": {},
   "cell_type": "markdown",
   "source": "# **Dataloader for Train, Test & Validation**",
   "id": "342d3f6bb1452324"
  },
  {
   "metadata": {
    "ExecuteTime": {
     "end_time": "2025-08-27T13:48:24.933253Z",
     "start_time": "2025-08-27T13:48:24.930736Z"
    }
   },
   "cell_type": "code",
   "source": [
    "Train_Dataloader = DataLoader(\n",
    "    dataset=Training_dataset,\n",
    "    batch_size=Batch_size,\n",
    "    shuffle=True,\n",
    "\n",
    ")\n",
    "\n",
    "Validation_Dataloader = DataLoader(\n",
    "    dataset=Validation_dataset,\n",
    "    batch_size=Batch_size,\n",
    "    shuffle=False,\n",
    ")\n",
    "\n",
    "Test_Dataloader = DataLoader(\n",
    "    dataset=Test_dataset,\n",
    "    batch_size=Batch_size,\n",
    "    shuffle=False,\n",
    "\n",
    ")"
   ],
   "id": "bb6ec6b0c5666339",
   "outputs": [],
   "execution_count": 119
  },
  {
   "metadata": {
    "ExecuteTime": {
     "end_time": "2025-08-27T13:48:24.944174Z",
     "start_time": "2025-08-27T13:48:24.934852Z"
    }
   },
   "cell_type": "code",
   "source": [
    "for pixels, labels in Train_Dataloader:\n",
    "    print(pixels.shape)\n",
    "    print(labels.shape)\n",
    "    break"
   ],
   "id": "6d69c84b434dad6f",
   "outputs": [
    {
     "name": "stdout",
     "output_type": "stream",
     "text": [
      "torch.Size([32, 1, 28, 28])\n",
      "torch.Size([32])\n"
     ]
    },
    {
     "name": "stderr",
     "output_type": "stream",
     "text": [
      "/var/folders/s5/yp49k9zd4457sltd30xmn_2m0000gn/T/ipykernel_3313/1280284542.py:14: FutureWarning: Calling int on a single element Series is deprecated and will raise a TypeError in the future. Use int(ser.iloc[0]) instead\n",
      "  labels = int(example[0:1])\n"
     ]
    }
   ],
   "execution_count": 120
  },
  {
   "metadata": {},
   "cell_type": "markdown",
   "source": "# **DigitClassifiar class**",
   "id": "de2a44a1288d2421"
  },
  {
   "metadata": {
    "ExecuteTime": {
     "end_time": "2025-08-27T13:48:24.949305Z",
     "start_time": "2025-08-27T13:48:24.946024Z"
    }
   },
   "cell_type": "code",
   "source": [
    "class DigitClass(pl.LightningModule):\n",
    "    def __init__(self):\n",
    "        super().__init__()\n",
    "        self.criterion = nn.CrossEntropyLoss()\n",
    "        self.layer1 = nn.Linear(28 * 28, 128)\n",
    "        self.layer2 = nn.Linear(128, 32)\n",
    "        self.layer3 = nn.Linear(32, 10)\n",
    "        self.relu = nn.ReLU()\n",
    "\n",
    "    def forward(self, x):\n",
    "        x = x.view(-1, 28 * 28)\n",
    "        x = self.layer1(x)\n",
    "        x = self.relu(x)\n",
    "        x = self.layer2(x)\n",
    "        x = self.relu(x)\n",
    "        x = self.layer3(x)\n",
    "        return x\n",
    "\n",
    "    # Gradient Decent\n",
    "    def configure_optimizers(self):\n",
    "        optimizer = torch.optim.Adam(self.parameters(), lr=Learning_Rate)\n",
    "        return optimizer\n",
    "\n",
    "    # Training Step\n",
    "    def training_step(self, batch, batch_idx):\n",
    "        pixels, labels = batch\n",
    "        pixels = pixels.to(Device)\n",
    "        labels = labels.to(Device)\n",
    "        outputs = self.forward(pixels)\n",
    "        loss = self.criterion(outputs, labels)\n",
    "        self.log('Train_loss', loss)\n",
    "        return loss\n",
    "\n",
    "    # Validation Step\n",
    "    def validation_step(self, batch, batch_idx):\n",
    "        pixels, labels = batch\n",
    "        pixels = pixels.to(Device)\n",
    "        labels = labels.to(Device)\n",
    "        outputs = self.forward(pixels)\n",
    "        loss = self.criterion(outputs, labels)\n",
    "        accuracy = (torch.argmax(outputs, dim=1) == labels).float().mean()\n",
    "        self.log('val_loss', loss, prog_bar=True)\n",
    "        self.log('val_accuracy', accuracy, prog_bar=True)\n",
    "\n",
    "    # Test Step\n",
    "    def test_step(self, batch, batch_idx):\n",
    "        pixels, labels= batch\n",
    "        pixels = pixels.to(Device)\n",
    "        labels = labels.to(Device)\n",
    "        outputs = self.forward(pixels)\n",
    "        loss = self.criterion(outputs, labels)\n",
    "        accuracy = (torch.argmax(outputs, dim=1) == labels).float().mean()\n",
    "        self.log('test_loss', loss, prog_bar=True)\n",
    "        self.log('test_accuracy', accuracy, prog_bar=True)\n",
    "\n"
   ],
   "id": "eb29faacc0f352d0",
   "outputs": [],
   "execution_count": 121
  },
  {
   "metadata": {
    "ExecuteTime": {
     "end_time": "2025-08-27T13:48:24.955495Z",
     "start_time": "2025-08-27T13:48:24.951404Z"
    }
   },
   "cell_type": "code",
   "source": "Model = DigitClass().to(Device)",
   "id": "3b85322f6cbfa59a",
   "outputs": [],
   "execution_count": 122
  },
  {
   "metadata": {
    "ExecuteTime": {
     "end_time": "2025-08-27T13:48:24.959025Z",
     "start_time": "2025-08-27T13:48:24.957283Z"
    }
   },
   "cell_type": "code",
   "source": [
    "Early_stopping = EarlyStopping(\n",
    "    monitor='val_loss',\n",
    "    patience=3,\n",
    "    verbose=True,\n",
    ")\n",
    "\n",
    "checkpoints_callback = ModelCheckpoint(\n",
    "    monitor='val_accuracy',\n",
    "    save_top_k=1,\n",
    "    mode='max',\n",
    ")\n",
    "\n",
    "checkpoints_path = os.path.join(\n",
    "    os.getcwd(),'checkpoints','Best_Model.pth'\n",
    ")"
   ],
   "id": "2d6c491799a9974",
   "outputs": [],
   "execution_count": 123
  },
  {
   "metadata": {},
   "cell_type": "markdown",
   "source": "# **Train**",
   "id": "1f1509c131b8080d"
  },
  {
   "metadata": {
    "ExecuteTime": {
     "end_time": "2025-08-27T13:48:24.970802Z",
     "start_time": "2025-08-27T13:48:24.960516Z"
    }
   },
   "cell_type": "code",
   "source": [
    "Training = pl.Trainer(\n",
    "    max_epochs=Epochs,\n",
    "    callbacks=[checkpoints_callback, Early_stopping],\n",
    ")"
   ],
   "id": "56ad6edf5d457194",
   "outputs": [
    {
     "name": "stderr",
     "output_type": "stream",
     "text": [
      "GPU available: True (mps), used: True\n",
      "TPU available: False, using: 0 TPU cores\n",
      "HPU available: False, using: 0 HPUs\n"
     ]
    }
   ],
   "execution_count": 124
  },
  {
   "metadata": {
    "ExecuteTime": {
     "end_time": "2025-08-27T13:48:35.259721Z",
     "start_time": "2025-08-27T13:48:24.974556Z"
    }
   },
   "cell_type": "code",
   "source": [
    "Training.fit(\n",
    "    model=Model,\n",
    "    train_dataloaders=Train_Dataloader,\n",
    "    val_dataloaders=Validation_Dataloader,\n",
    ")"
   ],
   "id": "f4fc422cbc395353",
   "outputs": [
    {
     "name": "stderr",
     "output_type": "stream",
     "text": [
      "\n",
      "  | Name      | Type             | Params | Mode \n",
      "-------------------------------------------------------\n",
      "0 | criterion | CrossEntropyLoss | 0      | train\n",
      "1 | layer1    | Linear           | 100 K  | train\n",
      "2 | layer2    | Linear           | 4.1 K  | train\n",
      "3 | layer3    | Linear           | 330    | train\n",
      "4 | relu      | ReLU             | 0      | train\n",
      "-------------------------------------------------------\n",
      "104 K     Trainable params\n",
      "0         Non-trainable params\n",
      "104 K     Total params\n",
      "0.420     Total estimated model params size (MB)\n",
      "5         Modules in train mode\n",
      "0         Modules in eval mode\n"
     ]
    },
    {
     "name": "stdout",
     "output_type": "stream",
     "text": [
      "                                                                            "
     ]
    },
    {
     "name": "stderr",
     "output_type": "stream",
     "text": [
      "/Library/Frameworks/Python.framework/Versions/3.13/lib/python3.13/site-packages/pytorch_lightning/trainer/connectors/data_connector.py:433: The 'val_dataloader' does not have many workers which may be a bottleneck. Consider increasing the value of the `num_workers` argument` to `num_workers=9` in the `DataLoader` to improve performance.\n",
      "/var/folders/s5/yp49k9zd4457sltd30xmn_2m0000gn/T/ipykernel_3313/1280284542.py:14: FutureWarning: Calling int on a single element Series is deprecated and will raise a TypeError in the future. Use int(ser.iloc[0]) instead\n",
      "  labels = int(example[0:1])\n",
      "/Library/Frameworks/Python.framework/Versions/3.13/lib/python3.13/site-packages/pytorch_lightning/trainer/connectors/data_connector.py:433: The 'train_dataloader' does not have many workers which may be a bottleneck. Consider increasing the value of the `num_workers` argument` to `num_workers=9` in the `DataLoader` to improve performance.\n"
     ]
    },
    {
     "name": "stdout",
     "output_type": "stream",
     "text": [
      "Epoch 0: 100%|██████████| 919/919 [00:04<00:00, 220.48it/s, v_num=4]\n",
      "Validation: |          | 0/? [00:00<?, ?it/s]\u001B[A\n",
      "Validation:   0%|          | 0/197 [00:00<?, ?it/s]\u001B[A\n",
      "Validation DataLoader 0:   0%|          | 0/197 [00:00<?, ?it/s]\u001B[A\n",
      "Validation DataLoader 0:   1%|          | 1/197 [00:00<00:00, 274.05it/s]\u001B[A\n",
      "Validation DataLoader 0:   1%|          | 2/197 [00:00<00:00, 250.79it/s]\u001B[A\n",
      "Validation DataLoader 0:   2%|▏         | 3/197 [00:00<00:00, 240.41it/s]\u001B[A\n",
      "Validation DataLoader 0:   2%|▏         | 4/197 [00:00<00:00, 238.79it/s]\u001B[A\n",
      "Validation DataLoader 0:   3%|▎         | 5/197 [00:00<00:00, 239.80it/s]\u001B[A\n",
      "Validation DataLoader 0:   3%|▎         | 6/197 [00:00<00:00, 240.01it/s]\u001B[A\n",
      "Validation DataLoader 0:   4%|▎         | 7/197 [00:00<00:00, 241.49it/s]\u001B[A\n",
      "Validation DataLoader 0:   4%|▍         | 8/197 [00:00<00:00, 234.45it/s]\u001B[A\n",
      "Validation DataLoader 0:   5%|▍         | 9/197 [00:00<00:00, 233.58it/s]\u001B[A\n",
      "Validation DataLoader 0:   5%|▌         | 10/197 [00:00<00:00, 232.84it/s]\u001B[A\n",
      "Validation DataLoader 0:   6%|▌         | 11/197 [00:00<00:00, 232.10it/s]\u001B[A\n",
      "Validation DataLoader 0:   6%|▌         | 12/197 [00:00<00:00, 230.82it/s]\u001B[A\n",
      "Validation DataLoader 0:   7%|▋         | 13/197 [00:00<00:00, 230.85it/s]\u001B[A\n",
      "Validation DataLoader 0:   7%|▋         | 14/197 [00:00<00:00, 227.05it/s]\u001B[A\n",
      "Validation DataLoader 0:   8%|▊         | 15/197 [00:00<00:00, 226.88it/s]\u001B[A\n",
      "Validation DataLoader 0:   8%|▊         | 16/197 [00:00<00:00, 227.26it/s]\u001B[A\n",
      "Validation DataLoader 0:   9%|▊         | 17/197 [00:00<00:00, 228.16it/s]\u001B[A\n",
      "Validation DataLoader 0:   9%|▉         | 18/197 [00:00<00:00, 228.74it/s]\u001B[A\n",
      "Validation DataLoader 0:  10%|▉         | 19/197 [00:00<00:00, 225.02it/s]\u001B[A\n",
      "Validation DataLoader 0:  10%|█         | 20/197 [00:00<00:00, 225.04it/s]\u001B[A\n",
      "Validation DataLoader 0:  11%|█         | 21/197 [00:00<00:00, 223.63it/s]\u001B[A\n",
      "Validation DataLoader 0:  11%|█         | 22/197 [00:00<00:00, 224.30it/s]\u001B[A\n",
      "Validation DataLoader 0:  12%|█▏        | 23/197 [00:00<00:00, 224.49it/s]\u001B[A\n",
      "Validation DataLoader 0:  12%|█▏        | 24/197 [00:00<00:00, 223.15it/s]\u001B[A\n",
      "Validation DataLoader 0:  13%|█▎        | 25/197 [00:00<00:00, 223.69it/s]\u001B[A\n",
      "Validation DataLoader 0:  13%|█▎        | 26/197 [00:00<00:00, 224.24it/s]\u001B[A\n",
      "Validation DataLoader 0:  14%|█▎        | 27/197 [00:00<00:00, 223.21it/s]\u001B[A\n",
      "Validation DataLoader 0:  14%|█▍        | 28/197 [00:00<00:00, 223.87it/s]\u001B[A\n",
      "Validation DataLoader 0:  15%|█▍        | 29/197 [00:00<00:00, 222.70it/s]\u001B[A\n",
      "Validation DataLoader 0:  15%|█▌        | 30/197 [00:00<00:00, 222.75it/s]\u001B[A\n",
      "Validation DataLoader 0:  16%|█▌        | 31/197 [00:00<00:00, 223.37it/s]\u001B[A\n",
      "Validation DataLoader 0:  16%|█▌        | 32/197 [00:00<00:00, 223.71it/s]\u001B[A\n",
      "Validation DataLoader 0:  17%|█▋        | 33/197 [00:00<00:00, 224.22it/s]\u001B[A\n",
      "Validation DataLoader 0:  17%|█▋        | 34/197 [00:00<00:00, 224.72it/s]\u001B[A\n",
      "Validation DataLoader 0:  18%|█▊        | 35/197 [00:00<00:00, 223.80it/s]\u001B[A\n",
      "Validation DataLoader 0:  18%|█▊        | 36/197 [00:00<00:00, 223.97it/s]\u001B[A\n",
      "Validation DataLoader 0:  19%|█▉        | 37/197 [00:00<00:00, 223.17it/s]\u001B[A\n",
      "Validation DataLoader 0:  19%|█▉        | 38/197 [00:00<00:00, 223.96it/s]\u001B[A\n",
      "Validation DataLoader 0:  20%|█▉        | 39/197 [00:00<00:00, 224.56it/s]\u001B[A\n",
      "Validation DataLoader 0:  20%|██        | 40/197 [00:00<00:00, 224.85it/s]\u001B[A\n",
      "Validation DataLoader 0:  21%|██        | 41/197 [00:00<00:00, 223.94it/s]\u001B[A\n",
      "Validation DataLoader 0:  21%|██▏       | 42/197 [00:00<00:00, 224.17it/s]\u001B[A\n",
      "Validation DataLoader 0:  22%|██▏       | 43/197 [00:00<00:00, 223.59it/s]\u001B[A\n",
      "Validation DataLoader 0:  22%|██▏       | 44/197 [00:00<00:00, 223.40it/s]\u001B[A\n",
      "Validation DataLoader 0:  23%|██▎       | 45/197 [00:00<00:00, 223.76it/s]\u001B[A\n",
      "Validation DataLoader 0:  23%|██▎       | 46/197 [00:00<00:00, 224.42it/s]\u001B[A\n",
      "Validation DataLoader 0:  24%|██▍       | 47/197 [00:00<00:00, 224.86it/s]\u001B[A\n",
      "Validation DataLoader 0:  24%|██▍       | 48/197 [00:00<00:00, 225.08it/s]\u001B[A\n",
      "Validation DataLoader 0:  25%|██▍       | 49/197 [00:00<00:00, 224.88it/s]\u001B[A\n",
      "Validation DataLoader 0:  25%|██▌       | 50/197 [00:00<00:00, 224.14it/s]\u001B[A\n",
      "Validation DataLoader 0:  26%|██▌       | 51/197 [00:00<00:00, 224.34it/s]\u001B[A\n",
      "Validation DataLoader 0:  26%|██▋       | 52/197 [00:00<00:00, 224.65it/s]\u001B[A\n",
      "Validation DataLoader 0:  27%|██▋       | 53/197 [00:00<00:00, 225.19it/s]\u001B[A\n",
      "Validation DataLoader 0:  27%|██▋       | 54/197 [00:00<00:00, 224.56it/s]\u001B[A\n",
      "Validation DataLoader 0:  28%|██▊       | 55/197 [00:00<00:00, 224.76it/s]\u001B[A\n",
      "Validation DataLoader 0:  28%|██▊       | 56/197 [00:00<00:00, 225.32it/s]\u001B[A\n",
      "Validation DataLoader 0:  29%|██▉       | 57/197 [00:00<00:00, 224.57it/s]\u001B[A\n",
      "Validation DataLoader 0:  29%|██▉       | 58/197 [00:00<00:00, 224.32it/s]\u001B[A\n",
      "Validation DataLoader 0:  30%|██▉       | 59/197 [00:00<00:00, 222.00it/s]\u001B[A\n",
      "Validation DataLoader 0:  30%|███       | 60/197 [00:00<00:00, 222.43it/s]\u001B[A\n",
      "Validation DataLoader 0:  31%|███       | 61/197 [00:00<00:00, 221.92it/s]\u001B[A\n",
      "Validation DataLoader 0:  31%|███▏      | 62/197 [00:00<00:00, 222.12it/s]\u001B[A\n",
      "Validation DataLoader 0:  32%|███▏      | 63/197 [00:00<00:00, 222.53it/s]\u001B[A\n",
      "Validation DataLoader 0:  32%|███▏      | 64/197 [00:00<00:00, 222.86it/s]\u001B[A\n",
      "Validation DataLoader 0:  33%|███▎      | 65/197 [00:00<00:00, 222.38it/s]\u001B[A\n",
      "Validation DataLoader 0:  34%|███▎      | 66/197 [00:00<00:00, 222.56it/s]\u001B[A\n",
      "Validation DataLoader 0:  34%|███▍      | 67/197 [00:00<00:00, 222.16it/s]\u001B[A\n",
      "Validation DataLoader 0:  35%|███▍      | 68/197 [00:00<00:00, 221.78it/s]\u001B[A\n",
      "Validation DataLoader 0:  35%|███▌      | 69/197 [00:00<00:00, 221.91it/s]\u001B[A\n",
      "Validation DataLoader 0:  36%|███▌      | 70/197 [00:00<00:00, 222.19it/s]\u001B[A\n",
      "Validation DataLoader 0:  36%|███▌      | 71/197 [00:00<00:00, 222.41it/s]\u001B[A\n",
      "Validation DataLoader 0:  37%|███▋      | 72/197 [00:00<00:00, 222.51it/s]\u001B[A\n",
      "Validation DataLoader 0:  37%|███▋      | 73/197 [00:00<00:00, 222.77it/s]\u001B[A\n",
      "Validation DataLoader 0:  38%|███▊      | 74/197 [00:00<00:00, 222.37it/s]\u001B[A\n",
      "Validation DataLoader 0:  38%|███▊      | 75/197 [00:00<00:00, 221.94it/s]\u001B[A\n",
      "Validation DataLoader 0:  39%|███▊      | 76/197 [00:00<00:00, 222.12it/s]\u001B[A\n",
      "Validation DataLoader 0:  39%|███▉      | 77/197 [00:00<00:00, 221.90it/s]\u001B[A\n",
      "Validation DataLoader 0:  40%|███▉      | 78/197 [00:00<00:00, 222.04it/s]\u001B[A\n",
      "Validation DataLoader 0:  40%|████      | 79/197 [00:00<00:00, 221.74it/s]\u001B[A\n",
      "Validation DataLoader 0:  41%|████      | 80/197 [00:00<00:00, 221.88it/s]\u001B[A\n",
      "Validation DataLoader 0:  41%|████      | 81/197 [00:00<00:00, 221.53it/s]\u001B[A\n",
      "Validation DataLoader 0:  42%|████▏     | 82/197 [00:00<00:00, 221.65it/s]\u001B[A\n",
      "Validation DataLoader 0:  42%|████▏     | 83/197 [00:00<00:00, 221.81it/s]\u001B[A\n",
      "Validation DataLoader 0:  43%|████▎     | 84/197 [00:00<00:00, 221.01it/s]\u001B[A\n",
      "Validation DataLoader 0:  43%|████▎     | 85/197 [00:00<00:00, 221.20it/s]\u001B[A\n",
      "Validation DataLoader 0:  44%|████▎     | 86/197 [00:00<00:00, 221.36it/s]\u001B[A\n",
      "Validation DataLoader 0:  44%|████▍     | 87/197 [00:00<00:00, 221.03it/s]\u001B[A\n",
      "Validation DataLoader 0:  45%|████▍     | 88/197 [00:00<00:00, 221.12it/s]\u001B[A\n",
      "Validation DataLoader 0:  45%|████▌     | 89/197 [00:00<00:00, 221.21it/s]\u001B[A\n",
      "Validation DataLoader 0:  46%|████▌     | 90/197 [00:00<00:00, 221.01it/s]\u001B[A\n",
      "Validation DataLoader 0:  46%|████▌     | 91/197 [00:00<00:00, 220.72it/s]\u001B[A\n",
      "Validation DataLoader 0:  47%|████▋     | 92/197 [00:00<00:00, 220.86it/s]\u001B[A\n",
      "Validation DataLoader 0:  47%|████▋     | 93/197 [00:00<00:00, 221.16it/s]\u001B[A\n",
      "Validation DataLoader 0:  48%|████▊     | 94/197 [00:00<00:00, 221.47it/s]\u001B[A\n",
      "Validation DataLoader 0:  48%|████▊     | 95/197 [00:00<00:00, 220.82it/s]\u001B[A\n",
      "Validation DataLoader 0:  49%|████▊     | 96/197 [00:00<00:00, 220.99it/s]\u001B[A\n",
      "Validation DataLoader 0:  49%|████▉     | 97/197 [00:00<00:00, 221.15it/s]\u001B[A\n",
      "Validation DataLoader 0:  50%|████▉     | 98/197 [00:00<00:00, 221.26it/s]\u001B[A\n",
      "Validation DataLoader 0:  50%|█████     | 99/197 [00:00<00:00, 220.92it/s]\u001B[A\n",
      "Validation DataLoader 0:  51%|█████     | 100/197 [00:00<00:00, 221.08it/s]\u001B[A\n",
      "Validation DataLoader 0:  51%|█████▏    | 101/197 [00:00<00:00, 220.92it/s]\u001B[A\n",
      "Validation DataLoader 0:  52%|█████▏    | 102/197 [00:00<00:00, 221.17it/s]\u001B[A\n",
      "Validation DataLoader 0:  52%|█████▏    | 103/197 [00:00<00:00, 221.41it/s]\u001B[A\n",
      "Validation DataLoader 0:  53%|█████▎    | 104/197 [00:00<00:00, 221.07it/s]\u001B[A\n",
      "Validation DataLoader 0:  53%|█████▎    | 105/197 [00:00<00:00, 221.20it/s]\u001B[A\n",
      "Validation DataLoader 0:  54%|█████▍    | 106/197 [00:00<00:00, 221.21it/s]\u001B[A\n",
      "Validation DataLoader 0:  54%|█████▍    | 107/197 [00:00<00:00, 220.84it/s]\u001B[A\n",
      "Validation DataLoader 0:  55%|█████▍    | 108/197 [00:00<00:00, 220.83it/s]\u001B[A\n",
      "Validation DataLoader 0:  55%|█████▌    | 109/197 [00:00<00:00, 220.94it/s]\u001B[A\n",
      "Validation DataLoader 0:  56%|█████▌    | 110/197 [00:00<00:00, 221.08it/s]\u001B[A\n",
      "Validation DataLoader 0:  56%|█████▋    | 111/197 [00:00<00:00, 220.78it/s]\u001B[A\n",
      "Validation DataLoader 0:  57%|█████▋    | 112/197 [00:00<00:00, 220.84it/s]\u001B[A\n",
      "Validation DataLoader 0:  57%|█████▋    | 113/197 [00:00<00:00, 221.09it/s]\u001B[A\n",
      "Validation DataLoader 0:  58%|█████▊    | 114/197 [00:00<00:00, 220.78it/s]\u001B[A\n",
      "Validation DataLoader 0:  58%|█████▊    | 115/197 [00:00<00:00, 220.96it/s]\u001B[A\n",
      "Validation DataLoader 0:  59%|█████▉    | 116/197 [00:00<00:00, 220.80it/s]\u001B[A\n",
      "Validation DataLoader 0:  59%|█████▉    | 117/197 [00:00<00:00, 220.87it/s]\u001B[A\n",
      "Validation DataLoader 0:  60%|█████▉    | 118/197 [00:00<00:00, 220.86it/s]\u001B[A\n",
      "Validation DataLoader 0:  60%|██████    | 119/197 [00:00<00:00, 220.90it/s]\u001B[A\n",
      "Validation DataLoader 0:  61%|██████    | 120/197 [00:00<00:00, 221.07it/s]\u001B[A\n",
      "Validation DataLoader 0:  61%|██████▏   | 121/197 [00:00<00:00, 221.23it/s]\u001B[A\n",
      "Validation DataLoader 0:  62%|██████▏   | 122/197 [00:00<00:00, 221.02it/s]\u001B[A\n",
      "Validation DataLoader 0:  62%|██████▏   | 123/197 [00:00<00:00, 220.82it/s]\u001B[A\n",
      "Validation DataLoader 0:  63%|██████▎   | 124/197 [00:00<00:00, 220.94it/s]\u001B[A\n",
      "Validation DataLoader 0:  63%|██████▎   | 125/197 [00:00<00:00, 220.93it/s]\u001B[A\n",
      "Validation DataLoader 0:  64%|██████▍   | 126/197 [00:00<00:00, 221.16it/s]\u001B[A\n",
      "Validation DataLoader 0:  64%|██████▍   | 127/197 [00:00<00:00, 221.29it/s]\u001B[A\n",
      "Validation DataLoader 0:  65%|██████▍   | 128/197 [00:00<00:00, 221.43it/s]\u001B[A\n",
      "Validation DataLoader 0:  65%|██████▌   | 129/197 [00:00<00:00, 221.22it/s]\u001B[A\n",
      "Validation DataLoader 0:  66%|██████▌   | 130/197 [00:00<00:00, 221.39it/s]\u001B[A\n",
      "Validation DataLoader 0:  66%|██████▋   | 131/197 [00:00<00:00, 221.57it/s]\u001B[A\n",
      "Validation DataLoader 0:  67%|██████▋   | 132/197 [00:00<00:00, 221.67it/s]\u001B[A\n",
      "Validation DataLoader 0:  68%|██████▊   | 133/197 [00:00<00:00, 221.46it/s]\u001B[A\n",
      "Validation DataLoader 0:  68%|██████▊   | 134/197 [00:00<00:00, 221.54it/s]\u001B[A\n",
      "Validation DataLoader 0:  69%|██████▊   | 135/197 [00:00<00:00, 221.33it/s]\u001B[A\n",
      "Validation DataLoader 0:  69%|██████▉   | 136/197 [00:00<00:00, 221.60it/s]\u001B[A\n",
      "Validation DataLoader 0:  70%|██████▉   | 137/197 [00:00<00:00, 221.78it/s]\u001B[A\n",
      "Validation DataLoader 0:  70%|███████   | 138/197 [00:00<00:00, 221.54it/s]\u001B[A\n",
      "Validation DataLoader 0:  71%|███████   | 139/197 [00:00<00:00, 221.57it/s]\u001B[A\n",
      "Validation DataLoader 0:  71%|███████   | 140/197 [00:00<00:00, 221.32it/s]\u001B[A\n",
      "Validation DataLoader 0:  72%|███████▏  | 141/197 [00:00<00:00, 221.36it/s]\u001B[A\n",
      "Validation DataLoader 0:  72%|███████▏  | 142/197 [00:00<00:00, 221.49it/s]\u001B[A\n",
      "Validation DataLoader 0:  73%|███████▎  | 143/197 [00:00<00:00, 220.98it/s]\u001B[A\n",
      "Validation DataLoader 0:  73%|███████▎  | 144/197 [00:00<00:00, 221.03it/s]\u001B[A\n",
      "Validation DataLoader 0:  74%|███████▎  | 145/197 [00:00<00:00, 221.18it/s]\u001B[A\n",
      "Validation DataLoader 0:  74%|███████▍  | 146/197 [00:00<00:00, 221.35it/s]\u001B[A\n",
      "Validation DataLoader 0:  75%|███████▍  | 147/197 [00:00<00:00, 221.48it/s]\u001B[A\n",
      "Validation DataLoader 0:  75%|███████▌  | 148/197 [00:00<00:00, 221.33it/s]\u001B[A\n",
      "Validation DataLoader 0:  76%|███████▌  | 149/197 [00:00<00:00, 221.44it/s]\u001B[A\n",
      "Validation DataLoader 0:  76%|███████▌  | 150/197 [00:00<00:00, 221.54it/s]\u001B[A\n",
      "Validation DataLoader 0:  77%|███████▋  | 151/197 [00:00<00:00, 221.63it/s]\u001B[A\n",
      "Validation DataLoader 0:  77%|███████▋  | 152/197 [00:00<00:00, 221.19it/s]\u001B[A\n",
      "Validation DataLoader 0:  78%|███████▊  | 153/197 [00:00<00:00, 221.28it/s]\u001B[A\n",
      "Validation DataLoader 0:  78%|███████▊  | 154/197 [00:00<00:00, 221.31it/s]\u001B[A\n",
      "Validation DataLoader 0:  79%|███████▊  | 155/197 [00:00<00:00, 221.20it/s]\u001B[A\n",
      "Validation DataLoader 0:  79%|███████▉  | 156/197 [00:00<00:00, 221.28it/s]\u001B[A\n",
      "Validation DataLoader 0:  80%|███████▉  | 157/197 [00:00<00:00, 221.39it/s]\u001B[A\n",
      "Validation DataLoader 0:  80%|████████  | 158/197 [00:00<00:00, 221.23it/s]\u001B[A\n",
      "Validation DataLoader 0:  81%|████████  | 159/197 [00:00<00:00, 221.34it/s]\u001B[A\n",
      "Validation DataLoader 0:  81%|████████  | 160/197 [00:00<00:00, 221.16it/s]\u001B[A\n",
      "Validation DataLoader 0:  82%|████████▏ | 161/197 [00:00<00:00, 221.21it/s]\u001B[A\n",
      "Validation DataLoader 0:  82%|████████▏ | 162/197 [00:00<00:00, 220.78it/s]\u001B[A\n",
      "Validation DataLoader 0:  83%|████████▎ | 163/197 [00:00<00:00, 220.79it/s]\u001B[A\n",
      "Validation DataLoader 0:  83%|████████▎ | 164/197 [00:00<00:00, 221.00it/s]\u001B[A\n",
      "Validation DataLoader 0:  84%|████████▍ | 165/197 [00:00<00:00, 220.90it/s]\u001B[A\n",
      "Validation DataLoader 0:  84%|████████▍ | 166/197 [00:00<00:00, 220.99it/s]\u001B[A\n",
      "Validation DataLoader 0:  85%|████████▍ | 167/197 [00:00<00:00, 221.08it/s]\u001B[A\n",
      "Validation DataLoader 0:  85%|████████▌ | 168/197 [00:00<00:00, 220.89it/s]\u001B[A\n",
      "Validation DataLoader 0:  86%|████████▌ | 169/197 [00:00<00:00, 220.76it/s]\u001B[A\n",
      "Validation DataLoader 0:  86%|████████▋ | 170/197 [00:00<00:00, 220.83it/s]\u001B[A\n",
      "Validation DataLoader 0:  87%|████████▋ | 171/197 [00:00<00:00, 220.90it/s]\u001B[A\n",
      "Validation DataLoader 0:  87%|████████▋ | 172/197 [00:00<00:00, 220.97it/s]\u001B[A\n",
      "Validation DataLoader 0:  88%|████████▊ | 173/197 [00:00<00:00, 221.09it/s]\u001B[A\n",
      "Validation DataLoader 0:  88%|████████▊ | 174/197 [00:00<00:00, 220.97it/s]\u001B[A\n",
      "Validation DataLoader 0:  89%|████████▉ | 175/197 [00:00<00:00, 221.02it/s]\u001B[A\n",
      "Validation DataLoader 0:  89%|████████▉ | 176/197 [00:00<00:00, 220.88it/s]\u001B[A\n",
      "Validation DataLoader 0:  90%|████████▉ | 177/197 [00:00<00:00, 220.93it/s]\u001B[A\n",
      "Validation DataLoader 0:  90%|█████████ | 178/197 [00:00<00:00, 220.85it/s]\u001B[A\n",
      "Validation DataLoader 0:  91%|█████████ | 179/197 [00:00<00:00, 220.92it/s]\u001B[A\n",
      "Validation DataLoader 0:  91%|█████████▏| 180/197 [00:00<00:00, 220.84it/s]\u001B[A\n",
      "Validation DataLoader 0:  92%|█████████▏| 181/197 [00:00<00:00, 220.95it/s]\u001B[A\n",
      "Validation DataLoader 0:  92%|█████████▏| 182/197 [00:00<00:00, 221.05it/s]\u001B[A\n",
      "Validation DataLoader 0:  93%|█████████▎| 183/197 [00:00<00:00, 221.19it/s]\u001B[A\n",
      "Validation DataLoader 0:  93%|█████████▎| 184/197 [00:00<00:00, 221.33it/s]\u001B[A\n",
      "Validation DataLoader 0:  94%|█████████▍| 185/197 [00:00<00:00, 221.44it/s]\u001B[A\n",
      "Validation DataLoader 0:  94%|█████████▍| 186/197 [00:00<00:00, 221.57it/s]\u001B[A\n",
      "Validation DataLoader 0:  95%|█████████▍| 187/197 [00:00<00:00, 221.43it/s]\u001B[A\n",
      "Validation DataLoader 0:  95%|█████████▌| 188/197 [00:00<00:00, 221.26it/s]\u001B[A\n",
      "Validation DataLoader 0:  96%|█████████▌| 189/197 [00:00<00:00, 221.29it/s]\u001B[A\n",
      "Validation DataLoader 0:  96%|█████████▋| 190/197 [00:00<00:00, 221.34it/s]\u001B[A\n",
      "Validation DataLoader 0:  97%|█████████▋| 191/197 [00:00<00:00, 221.48it/s]\u001B[A\n",
      "Validation DataLoader 0:  97%|█████████▋| 192/197 [00:00<00:00, 221.61it/s]\u001B[A\n",
      "Validation DataLoader 0:  98%|█████████▊| 193/197 [00:00<00:00, 221.49it/s]\u001B[A\n",
      "Validation DataLoader 0:  98%|█████████▊| 194/197 [00:00<00:00, 221.33it/s]\u001B[A\n",
      "Validation DataLoader 0:  99%|█████████▉| 195/197 [00:00<00:00, 221.47it/s]\u001B[A\n",
      "Validation DataLoader 0:  99%|█████████▉| 196/197 [00:00<00:00, 221.25it/s]\u001B[A\n",
      "Validation DataLoader 0: 100%|██████████| 197/197 [00:00<00:00, 221.33it/s]\u001B[A\n",
      "Epoch 0: 100%|██████████| 919/919 [00:05<00:00, 181.30it/s, v_num=4, val_loss=0.178, val_accuracy=0.945]"
     ]
    },
    {
     "name": "stderr",
     "output_type": "stream",
     "text": [
      "Metric val_loss improved. New best score: 0.178\n"
     ]
    },
    {
     "name": "stdout",
     "output_type": "stream",
     "text": [
      "Epoch 1: 100%|██████████| 919/919 [00:04<00:00, 215.53it/s, v_num=4, val_loss=0.178, val_accuracy=0.945]\n",
      "Validation: |          | 0/? [00:00<?, ?it/s]\u001B[A\n",
      "Validation:   0%|          | 0/197 [00:00<?, ?it/s]\u001B[A\n",
      "Validation DataLoader 0:   0%|          | 0/197 [00:00<?, ?it/s]\u001B[A\n",
      "Validation DataLoader 0:   1%|          | 1/197 [00:00<00:00, 354.73it/s]\u001B[A\n",
      "Validation DataLoader 0:   1%|          | 2/197 [00:00<00:00, 277.93it/s]\u001B[A\n",
      "Validation DataLoader 0:   2%|▏         | 3/197 [00:00<00:00, 264.55it/s]\u001B[A\n",
      "Validation DataLoader 0:   2%|▏         | 4/197 [00:00<00:00, 256.74it/s]\u001B[A\n",
      "Validation DataLoader 0:   3%|▎         | 5/197 [00:00<00:00, 242.86it/s]\u001B[A\n",
      "Validation DataLoader 0:   3%|▎         | 6/197 [00:00<00:00, 240.68it/s]\u001B[A\n",
      "Validation DataLoader 0:   4%|▎         | 7/197 [00:00<00:00, 231.96it/s]\u001B[A\n",
      "Validation DataLoader 0:   4%|▍         | 8/197 [00:00<00:00, 231.96it/s]\u001B[A\n",
      "Validation DataLoader 0:   5%|▍         | 9/197 [00:00<00:00, 232.20it/s]\u001B[A\n",
      "Validation DataLoader 0:   5%|▌         | 10/197 [00:00<00:00, 233.17it/s]\u001B[A\n",
      "Validation DataLoader 0:   6%|▌         | 11/197 [00:00<00:00, 228.74it/s]\u001B[A\n",
      "Validation DataLoader 0:   6%|▌         | 12/197 [00:00<00:00, 228.36it/s]\u001B[A\n",
      "Validation DataLoader 0:   7%|▋         | 13/197 [00:00<00:00, 224.71it/s]\u001B[A\n",
      "Validation DataLoader 0:   7%|▋         | 14/197 [00:00<00:00, 225.64it/s]\u001B[A\n",
      "Validation DataLoader 0:   8%|▊         | 15/197 [00:00<00:00, 223.50it/s]\u001B[A\n",
      "Validation DataLoader 0:   8%|▊         | 16/197 [00:00<00:00, 223.12it/s]\u001B[A\n",
      "Validation DataLoader 0:   9%|▊         | 17/197 [00:00<00:00, 221.84it/s]\u001B[A\n",
      "Validation DataLoader 0:   9%|▉         | 18/197 [00:00<00:00, 222.67it/s]\u001B[A\n",
      "Validation DataLoader 0:  10%|▉         | 19/197 [00:00<00:00, 221.14it/s]\u001B[A\n",
      "Validation DataLoader 0:  10%|█         | 20/197 [00:00<00:00, 219.49it/s]\u001B[A\n",
      "Validation DataLoader 0:  11%|█         | 21/197 [00:00<00:00, 220.33it/s]\u001B[A\n",
      "Validation DataLoader 0:  11%|█         | 22/197 [00:00<00:00, 218.74it/s]\u001B[A\n",
      "Validation DataLoader 0:  12%|█▏        | 23/197 [00:00<00:00, 219.27it/s]\u001B[A\n",
      "Validation DataLoader 0:  12%|█▏        | 24/197 [00:00<00:00, 220.42it/s]\u001B[A\n",
      "Validation DataLoader 0:  13%|█▎        | 25/197 [00:00<00:00, 221.48it/s]\u001B[A\n",
      "Validation DataLoader 0:  13%|█▎        | 26/197 [00:00<00:00, 222.19it/s]\u001B[A\n",
      "Validation DataLoader 0:  14%|█▎        | 27/197 [00:00<00:00, 222.56it/s]\u001B[A\n",
      "Validation DataLoader 0:  14%|█▍        | 28/197 [00:00<00:00, 223.10it/s]\u001B[A\n",
      "Validation DataLoader 0:  15%|█▍        | 29/197 [00:00<00:00, 222.22it/s]\u001B[A\n",
      "Validation DataLoader 0:  15%|█▌        | 30/197 [00:00<00:00, 221.51it/s]\u001B[A\n",
      "Validation DataLoader 0:  16%|█▌        | 31/197 [00:00<00:00, 220.39it/s]\u001B[A\n",
      "Validation DataLoader 0:  16%|█▌        | 32/197 [00:00<00:00, 220.87it/s]\u001B[A\n",
      "Validation DataLoader 0:  17%|█▋        | 33/197 [00:00<00:00, 221.41it/s]\u001B[A\n",
      "Validation DataLoader 0:  17%|█▋        | 34/197 [00:00<00:00, 221.85it/s]\u001B[A\n",
      "Validation DataLoader 0:  18%|█▊        | 35/197 [00:00<00:00, 221.13it/s]\u001B[A\n",
      "Validation DataLoader 0:  18%|█▊        | 36/197 [00:00<00:00, 220.59it/s]\u001B[A\n",
      "Validation DataLoader 0:  19%|█▉        | 37/197 [00:00<00:00, 221.38it/s]\u001B[A\n",
      "Validation DataLoader 0:  19%|█▉        | 38/197 [00:00<00:00, 221.50it/s]\u001B[A\n",
      "Validation DataLoader 0:  20%|█▉        | 39/197 [00:00<00:00, 222.00it/s]\u001B[A\n",
      "Validation DataLoader 0:  20%|██        | 40/197 [00:00<00:00, 222.52it/s]\u001B[A\n",
      "Validation DataLoader 0:  21%|██        | 41/197 [00:00<00:00, 222.86it/s]\u001B[A\n",
      "Validation DataLoader 0:  21%|██▏       | 42/197 [00:00<00:00, 223.28it/s]\u001B[A\n",
      "Validation DataLoader 0:  22%|██▏       | 43/197 [00:00<00:00, 222.74it/s]\u001B[A\n",
      "Validation DataLoader 0:  22%|██▏       | 44/197 [00:00<00:00, 222.81it/s]\u001B[A\n",
      "Validation DataLoader 0:  23%|██▎       | 45/197 [00:00<00:00, 223.25it/s]\u001B[A\n",
      "Validation DataLoader 0:  23%|██▎       | 46/197 [00:00<00:00, 223.70it/s]\u001B[A\n",
      "Validation DataLoader 0:  24%|██▍       | 47/197 [00:00<00:00, 223.03it/s]\u001B[A\n",
      "Validation DataLoader 0:  24%|██▍       | 48/197 [00:00<00:00, 223.16it/s]\u001B[A\n",
      "Validation DataLoader 0:  25%|██▍       | 49/197 [00:00<00:00, 222.93it/s]\u001B[A\n",
      "Validation DataLoader 0:  25%|██▌       | 50/197 [00:00<00:00, 222.00it/s]\u001B[A\n",
      "Validation DataLoader 0:  26%|██▌       | 51/197 [00:00<00:00, 221.36it/s]\u001B[A\n",
      "Validation DataLoader 0:  26%|██▋       | 52/197 [00:00<00:00, 221.60it/s]\u001B[A\n",
      "Validation DataLoader 0:  27%|██▋       | 53/197 [00:00<00:00, 221.83it/s]\u001B[A\n",
      "Validation DataLoader 0:  27%|██▋       | 54/197 [00:00<00:00, 221.60it/s]\u001B[A\n",
      "Validation DataLoader 0:  28%|██▊       | 55/197 [00:00<00:00, 221.75it/s]\u001B[A\n",
      "Validation DataLoader 0:  28%|██▊       | 56/197 [00:00<00:00, 221.11it/s]\u001B[A\n",
      "Validation DataLoader 0:  29%|██▉       | 57/197 [00:00<00:00, 220.37it/s]\u001B[A\n",
      "Validation DataLoader 0:  29%|██▉       | 58/197 [00:00<00:00, 220.64it/s]\u001B[A\n",
      "Validation DataLoader 0:  30%|██▉       | 59/197 [00:00<00:00, 220.99it/s]\u001B[A\n",
      "Validation DataLoader 0:  30%|███       | 60/197 [00:00<00:00, 221.36it/s]\u001B[A\n",
      "Validation DataLoader 0:  31%|███       | 61/197 [00:00<00:00, 221.06it/s]\u001B[A\n",
      "Validation DataLoader 0:  31%|███▏      | 62/197 [00:00<00:00, 220.60it/s]\u001B[A\n",
      "Validation DataLoader 0:  32%|███▏      | 63/197 [00:00<00:00, 220.76it/s]\u001B[A\n",
      "Validation DataLoader 0:  32%|███▏      | 64/197 [00:00<00:00, 220.81it/s]\u001B[A\n",
      "Validation DataLoader 0:  33%|███▎      | 65/197 [00:00<00:00, 220.42it/s]\u001B[A\n",
      "Validation DataLoader 0:  34%|███▎      | 66/197 [00:00<00:00, 220.51it/s]\u001B[A\n",
      "Validation DataLoader 0:  34%|███▍      | 67/197 [00:00<00:00, 220.16it/s]\u001B[A\n",
      "Validation DataLoader 0:  35%|███▍      | 68/197 [00:00<00:00, 220.28it/s]\u001B[A\n",
      "Validation DataLoader 0:  35%|███▌      | 69/197 [00:00<00:00, 219.85it/s]\u001B[A\n",
      "Validation DataLoader 0:  36%|███▌      | 70/197 [00:00<00:00, 219.67it/s]\u001B[A\n",
      "Validation DataLoader 0:  36%|███▌      | 71/197 [00:00<00:00, 219.94it/s]\u001B[A\n",
      "Validation DataLoader 0:  37%|███▋      | 72/197 [00:00<00:00, 220.31it/s]\u001B[A\n",
      "Validation DataLoader 0:  37%|███▋      | 73/197 [00:00<00:00, 219.80it/s]\u001B[A\n",
      "Validation DataLoader 0:  38%|███▊      | 74/197 [00:00<00:00, 219.81it/s]\u001B[A\n",
      "Validation DataLoader 0:  38%|███▊      | 75/197 [00:00<00:00, 219.98it/s]\u001B[A\n",
      "Validation DataLoader 0:  39%|███▊      | 76/197 [00:00<00:00, 220.10it/s]\u001B[A\n",
      "Validation DataLoader 0:  39%|███▉      | 77/197 [00:00<00:00, 219.78it/s]\u001B[A\n",
      "Validation DataLoader 0:  40%|███▉      | 78/197 [00:00<00:00, 219.94it/s]\u001B[A\n",
      "Validation DataLoader 0:  40%|████      | 79/197 [00:00<00:00, 220.00it/s]\u001B[A\n",
      "Validation DataLoader 0:  41%|████      | 80/197 [00:00<00:00, 220.14it/s]\u001B[A\n",
      "Validation DataLoader 0:  41%|████      | 81/197 [00:00<00:00, 219.84it/s]\u001B[A\n",
      "Validation DataLoader 0:  42%|████▏     | 82/197 [00:00<00:00, 220.01it/s]\u001B[A\n",
      "Validation DataLoader 0:  42%|████▏     | 83/197 [00:00<00:00, 219.67it/s]\u001B[A\n",
      "Validation DataLoader 0:  43%|████▎     | 84/197 [00:00<00:00, 219.78it/s]\u001B[A\n",
      "Validation DataLoader 0:  43%|████▎     | 85/197 [00:00<00:00, 219.88it/s]\u001B[A\n",
      "Validation DataLoader 0:  44%|████▎     | 86/197 [00:00<00:00, 220.02it/s]\u001B[A\n",
      "Validation DataLoader 0:  44%|████▍     | 87/197 [00:00<00:00, 220.01it/s]\u001B[A\n",
      "Validation DataLoader 0:  45%|████▍     | 88/197 [00:00<00:00, 219.61it/s]\u001B[A\n",
      "Validation DataLoader 0:  45%|████▌     | 89/197 [00:00<00:00, 219.76it/s]\u001B[A\n",
      "Validation DataLoader 0:  46%|████▌     | 90/197 [00:00<00:00, 219.47it/s]\u001B[A\n",
      "Validation DataLoader 0:  46%|████▌     | 91/197 [00:00<00:00, 219.52it/s]\u001B[A\n",
      "Validation DataLoader 0:  47%|████▋     | 92/197 [00:00<00:00, 219.20it/s]\u001B[A\n",
      "Validation DataLoader 0:  47%|████▋     | 93/197 [00:00<00:00, 219.35it/s]\u001B[A\n",
      "Validation DataLoader 0:  48%|████▊     | 94/197 [00:00<00:00, 219.54it/s]\u001B[A\n",
      "Validation DataLoader 0:  48%|████▊     | 95/197 [00:00<00:00, 219.84it/s]\u001B[A\n",
      "Validation DataLoader 0:  49%|████▊     | 96/197 [00:00<00:00, 219.67it/s]\u001B[A\n",
      "Validation DataLoader 0:  49%|████▉     | 97/197 [00:00<00:00, 219.84it/s]\u001B[A\n",
      "Validation DataLoader 0:  50%|████▉     | 98/197 [00:00<00:00, 220.19it/s]\u001B[A\n",
      "Validation DataLoader 0:  50%|█████     | 99/197 [00:00<00:00, 220.35it/s]\u001B[A\n",
      "Validation DataLoader 0:  51%|█████     | 100/197 [00:00<00:00, 220.53it/s]\u001B[A\n",
      "Validation DataLoader 0:  51%|█████▏    | 101/197 [00:00<00:00, 220.24it/s]\u001B[A\n",
      "Validation DataLoader 0:  52%|█████▏    | 102/197 [00:00<00:00, 220.34it/s]\u001B[A\n",
      "Validation DataLoader 0:  52%|█████▏    | 103/197 [00:00<00:00, 220.50it/s]\u001B[A\n",
      "Validation DataLoader 0:  53%|█████▎    | 104/197 [00:00<00:00, 219.80it/s]\u001B[A\n",
      "Validation DataLoader 0:  53%|█████▎    | 105/197 [00:00<00:00, 219.99it/s]\u001B[A\n",
      "Validation DataLoader 0:  54%|█████▍    | 106/197 [00:00<00:00, 220.10it/s]\u001B[A\n",
      "Validation DataLoader 0:  54%|█████▍    | 107/197 [00:00<00:00, 220.21it/s]\u001B[A\n",
      "Validation DataLoader 0:  55%|█████▍    | 108/197 [00:00<00:00, 220.00it/s]\u001B[A\n",
      "Validation DataLoader 0:  55%|█████▌    | 109/197 [00:00<00:00, 220.06it/s]\u001B[A\n",
      "Validation DataLoader 0:  56%|█████▌    | 110/197 [00:00<00:00, 220.25it/s]\u001B[A\n",
      "Validation DataLoader 0:  56%|█████▋    | 111/197 [00:00<00:00, 220.09it/s]\u001B[A\n",
      "Validation DataLoader 0:  57%|█████▋    | 112/197 [00:00<00:00, 220.17it/s]\u001B[A\n",
      "Validation DataLoader 0:  57%|█████▋    | 113/197 [00:00<00:00, 220.33it/s]\u001B[A\n",
      "Validation DataLoader 0:  58%|█████▊    | 114/197 [00:00<00:00, 220.50it/s]\u001B[A\n",
      "Validation DataLoader 0:  58%|█████▊    | 115/197 [00:00<00:00, 220.27it/s]\u001B[A\n",
      "Validation DataLoader 0:  59%|█████▉    | 116/197 [00:00<00:00, 220.35it/s]\u001B[A\n",
      "Validation DataLoader 0:  59%|█████▉    | 117/197 [00:00<00:00, 220.16it/s]\u001B[A\n",
      "Validation DataLoader 0:  60%|█████▉    | 118/197 [00:00<00:00, 220.10it/s]\u001B[A\n",
      "Validation DataLoader 0:  60%|██████    | 119/197 [00:00<00:00, 219.72it/s]\u001B[A\n",
      "Validation DataLoader 0:  61%|██████    | 120/197 [00:00<00:00, 219.83it/s]\u001B[A\n",
      "Validation DataLoader 0:  61%|██████▏   | 121/197 [00:00<00:00, 219.98it/s]\u001B[A\n",
      "Validation DataLoader 0:  62%|██████▏   | 122/197 [00:00<00:00, 220.08it/s]\u001B[A\n",
      "Validation DataLoader 0:  62%|██████▏   | 123/197 [00:00<00:00, 220.22it/s]\u001B[A\n",
      "Validation DataLoader 0:  63%|██████▎   | 124/197 [00:00<00:00, 219.58it/s]\u001B[A\n",
      "Validation DataLoader 0:  63%|██████▎   | 125/197 [00:00<00:00, 219.64it/s]\u001B[A\n",
      "Validation DataLoader 0:  64%|██████▍   | 126/197 [00:00<00:00, 219.69it/s]\u001B[A\n",
      "Validation DataLoader 0:  64%|██████▍   | 127/197 [00:00<00:00, 220.03it/s]\u001B[A\n",
      "Validation DataLoader 0:  65%|██████▍   | 128/197 [00:00<00:00, 220.21it/s]\u001B[A\n",
      "Validation DataLoader 0:  65%|██████▌   | 129/197 [00:00<00:00, 220.34it/s]\u001B[A\n",
      "Validation DataLoader 0:  66%|██████▌   | 130/197 [00:00<00:00, 220.02it/s]\u001B[A\n",
      "Validation DataLoader 0:  66%|██████▋   | 131/197 [00:00<00:00, 219.79it/s]\u001B[A\n",
      "Validation DataLoader 0:  67%|██████▋   | 132/197 [00:00<00:00, 219.43it/s]\u001B[A\n",
      "Validation DataLoader 0:  68%|██████▊   | 133/197 [00:00<00:00, 219.49it/s]\u001B[A\n",
      "Validation DataLoader 0:  68%|██████▊   | 134/197 [00:00<00:00, 219.65it/s]\u001B[A\n",
      "Validation DataLoader 0:  69%|██████▊   | 135/197 [00:00<00:00, 219.49it/s]\u001B[A\n",
      "Validation DataLoader 0:  69%|██████▉   | 136/197 [00:00<00:00, 219.29it/s]\u001B[A\n",
      "Validation DataLoader 0:  70%|██████▉   | 137/197 [00:00<00:00, 219.36it/s]\u001B[A\n",
      "Validation DataLoader 0:  70%|███████   | 138/197 [00:00<00:00, 219.41it/s]\u001B[A\n",
      "Validation DataLoader 0:  71%|███████   | 139/197 [00:00<00:00, 219.55it/s]\u001B[A\n",
      "Validation DataLoader 0:  71%|███████   | 140/197 [00:00<00:00, 219.65it/s]\u001B[A\n",
      "Validation DataLoader 0:  72%|███████▏  | 141/197 [00:00<00:00, 219.46it/s]\u001B[A\n",
      "Validation DataLoader 0:  72%|███████▏  | 142/197 [00:00<00:00, 219.64it/s]\u001B[A\n",
      "Validation DataLoader 0:  73%|███████▎  | 143/197 [00:00<00:00, 219.84it/s]\u001B[A\n",
      "Validation DataLoader 0:  73%|███████▎  | 144/197 [00:00<00:00, 219.97it/s]\u001B[A\n",
      "Validation DataLoader 0:  74%|███████▎  | 145/197 [00:00<00:00, 219.85it/s]\u001B[A\n",
      "Validation DataLoader 0:  74%|███████▍  | 146/197 [00:00<00:00, 219.62it/s]\u001B[A\n",
      "Validation DataLoader 0:  75%|███████▍  | 147/197 [00:00<00:00, 219.70it/s]\u001B[A\n",
      "Validation DataLoader 0:  75%|███████▌  | 148/197 [00:00<00:00, 219.81it/s]\u001B[A\n",
      "Validation DataLoader 0:  76%|███████▌  | 149/197 [00:00<00:00, 219.70it/s]\u001B[A\n",
      "Validation DataLoader 0:  76%|███████▌  | 150/197 [00:00<00:00, 219.78it/s]\u001B[A\n",
      "Validation DataLoader 0:  77%|███████▋  | 151/197 [00:00<00:00, 219.72it/s]\u001B[A\n",
      "Validation DataLoader 0:  77%|███████▋  | 152/197 [00:00<00:00, 219.72it/s]\u001B[A\n",
      "Validation DataLoader 0:  78%|███████▊  | 153/197 [00:00<00:00, 219.31it/s]\u001B[A\n",
      "Validation DataLoader 0:  78%|███████▊  | 154/197 [00:00<00:00, 219.34it/s]\u001B[A\n",
      "Validation DataLoader 0:  79%|███████▊  | 155/197 [00:00<00:00, 219.03it/s]\u001B[A\n",
      "Validation DataLoader 0:  79%|███████▉  | 156/197 [00:00<00:00, 219.12it/s]\u001B[A\n",
      "Validation DataLoader 0:  80%|███████▉  | 157/197 [00:00<00:00, 218.87it/s]\u001B[A\n",
      "Validation DataLoader 0:  80%|████████  | 158/197 [00:00<00:00, 218.95it/s]\u001B[A\n",
      "Validation DataLoader 0:  81%|████████  | 159/197 [00:00<00:00, 219.04it/s]\u001B[A\n",
      "Validation DataLoader 0:  81%|████████  | 160/197 [00:00<00:00, 219.02it/s]\u001B[A\n",
      "Validation DataLoader 0:  82%|████████▏ | 161/197 [00:00<00:00, 218.75it/s]\u001B[A\n",
      "Validation DataLoader 0:  82%|████████▏ | 162/197 [00:00<00:00, 218.80it/s]\u001B[A\n",
      "Validation DataLoader 0:  83%|████████▎ | 163/197 [00:00<00:00, 218.68it/s]\u001B[A\n",
      "Validation DataLoader 0:  83%|████████▎ | 164/197 [00:00<00:00, 218.76it/s]\u001B[A\n",
      "Validation DataLoader 0:  84%|████████▍ | 165/197 [00:00<00:00, 218.92it/s]\u001B[A\n",
      "Validation DataLoader 0:  84%|████████▍ | 166/197 [00:00<00:00, 219.02it/s]\u001B[A\n",
      "Validation DataLoader 0:  85%|████████▍ | 167/197 [00:00<00:00, 219.19it/s]\u001B[A\n",
      "Validation DataLoader 0:  85%|████████▌ | 168/197 [00:00<00:00, 219.34it/s]\u001B[A\n",
      "Validation DataLoader 0:  86%|████████▌ | 169/197 [00:00<00:00, 219.46it/s]\u001B[A\n",
      "Validation DataLoader 0:  86%|████████▋ | 170/197 [00:00<00:00, 219.56it/s]\u001B[A\n",
      "Validation DataLoader 0:  87%|████████▋ | 171/197 [00:00<00:00, 219.71it/s]\u001B[A\n",
      "Validation DataLoader 0:  87%|████████▋ | 172/197 [00:00<00:00, 219.61it/s]\u001B[A\n",
      "Validation DataLoader 0:  88%|████████▊ | 173/197 [00:00<00:00, 219.41it/s]\u001B[A\n",
      "Validation DataLoader 0:  88%|████████▊ | 174/197 [00:00<00:00, 219.54it/s]\u001B[A\n",
      "Validation DataLoader 0:  89%|████████▉ | 175/197 [00:00<00:00, 219.65it/s]\u001B[A\n",
      "Validation DataLoader 0:  89%|████████▉ | 176/197 [00:00<00:00, 219.76it/s]\u001B[A\n",
      "Validation DataLoader 0:  90%|████████▉ | 177/197 [00:00<00:00, 219.54it/s]\u001B[A\n",
      "Validation DataLoader 0:  90%|█████████ | 178/197 [00:00<00:00, 219.60it/s]\u001B[A\n",
      "Validation DataLoader 0:  91%|█████████ | 179/197 [00:00<00:00, 219.69it/s]\u001B[A\n",
      "Validation DataLoader 0:  91%|█████████▏| 180/197 [00:00<00:00, 219.38it/s]\u001B[A\n",
      "Validation DataLoader 0:  92%|█████████▏| 181/197 [00:00<00:00, 219.17it/s]\u001B[A\n",
      "Validation DataLoader 0:  92%|█████████▏| 182/197 [00:00<00:00, 219.17it/s]\u001B[A\n",
      "Validation DataLoader 0:  93%|█████████▎| 183/197 [00:00<00:00, 219.30it/s]\u001B[A\n",
      "Validation DataLoader 0:  93%|█████████▎| 184/197 [00:00<00:00, 219.41it/s]\u001B[A\n",
      "Validation DataLoader 0:  94%|█████████▍| 185/197 [00:00<00:00, 219.24it/s]\u001B[A\n",
      "Validation DataLoader 0:  94%|█████████▍| 186/197 [00:00<00:00, 219.04it/s]\u001B[A\n",
      "Validation DataLoader 0:  95%|█████████▍| 187/197 [00:00<00:00, 219.11it/s]\u001B[A\n",
      "Validation DataLoader 0:  95%|█████████▌| 188/197 [00:00<00:00, 219.18it/s]\u001B[A\n",
      "Validation DataLoader 0:  96%|█████████▌| 189/197 [00:00<00:00, 219.28it/s]\u001B[A\n",
      "Validation DataLoader 0:  96%|█████████▋| 190/197 [00:00<00:00, 218.98it/s]\u001B[A\n",
      "Validation DataLoader 0:  97%|█████████▋| 191/197 [00:00<00:00, 219.00it/s]\u001B[A\n",
      "Validation DataLoader 0:  97%|█████████▋| 192/197 [00:00<00:00, 219.11it/s]\u001B[A\n",
      "Validation DataLoader 0:  98%|█████████▊| 193/197 [00:00<00:00, 219.23it/s]\u001B[A\n",
      "Validation DataLoader 0:  98%|█████████▊| 194/197 [00:00<00:00, 219.29it/s]\u001B[A\n",
      "Validation DataLoader 0:  99%|█████████▉| 195/197 [00:00<00:00, 219.42it/s]\u001B[A\n",
      "Validation DataLoader 0:  99%|█████████▉| 196/197 [00:00<00:00, 219.57it/s]\u001B[A\n",
      "Validation DataLoader 0: 100%|██████████| 197/197 [00:00<00:00, 219.70it/s]\u001B[A\n",
      "Epoch 1: 100%|██████████| 919/919 [00:05<00:00, 177.73it/s, v_num=4, val_loss=0.148, val_accuracy=0.956]"
     ]
    },
    {
     "name": "stderr",
     "output_type": "stream",
     "text": [
      "Metric val_loss improved by 0.030 >= min_delta = 0.0. New best score: 0.148\n",
      "`Trainer.fit` stopped: `max_epochs=2` reached.\n"
     ]
    },
    {
     "name": "stdout",
     "output_type": "stream",
     "text": [
      "Epoch 1: 100%|██████████| 919/919 [00:05<00:00, 177.45it/s, v_num=4, val_loss=0.148, val_accuracy=0.956]\n"
     ]
    }
   ],
   "execution_count": 125
  },
  {
   "metadata": {
    "ExecuteTime": {
     "end_time": "2025-08-27T13:48:35.280051Z",
     "start_time": "2025-08-27T13:48:35.261704Z"
    }
   },
   "cell_type": "code",
   "source": [
    "best_model_path = checkpoints_callback.best_model_path\n",
    "print(best_model_path)\n",
    "best_model = DigitClass.load_from_checkpoint(best_model_path)"
   ],
   "id": "2902d035e2fdbdcf",
   "outputs": [
    {
     "name": "stdout",
     "output_type": "stream",
     "text": [
      "/Users/mahadiur/Desktop/Experiment Track Using MLFlow/Notebook/lightning_logs/version_4/checkpoints/epoch=1-step=1838.ckpt\n"
     ]
    }
   ],
   "execution_count": 126
  },
  {
   "metadata": {
    "ExecuteTime": {
     "end_time": "2025-08-27T13:48:35.951906Z",
     "start_time": "2025-08-27T13:48:35.282148Z"
    }
   },
   "cell_type": "code",
   "source": [
    "score = Training.test(\n",
    "    model=best_model,\n",
    "    dataloaders=Test_Dataloader,\n",
    ")"
   ],
   "id": "de5d478cebc6f882",
   "outputs": [
    {
     "name": "stderr",
     "output_type": "stream",
     "text": [
      "/Library/Frameworks/Python.framework/Versions/3.13/lib/python3.13/site-packages/pytorch_lightning/trainer/connectors/data_connector.py:433: The 'test_dataloader' does not have many workers which may be a bottleneck. Consider increasing the value of the `num_workers` argument` to `num_workers=9` in the `DataLoader` to improve performance.\n"
     ]
    },
    {
     "name": "stdout",
     "output_type": "stream",
     "text": [
      "Testing DataLoader 0:  23%|██▎       | 46/197 [00:00<00:00, 297.55it/s]"
     ]
    },
    {
     "name": "stderr",
     "output_type": "stream",
     "text": [
      "/var/folders/s5/yp49k9zd4457sltd30xmn_2m0000gn/T/ipykernel_3313/1280284542.py:14: FutureWarning: Calling int on a single element Series is deprecated and will raise a TypeError in the future. Use int(ser.iloc[0]) instead\n",
      "  labels = int(example[0:1])\n"
     ]
    },
    {
     "name": "stdout",
     "output_type": "stream",
     "text": [
      "Testing DataLoader 0: 100%|██████████| 197/197 [00:00<00:00, 299.59it/s]\n",
      "────────────────────────────────────────────────────────────────────────────────────────────────────────────────────────\n",
      "       Test metric             DataLoader 0\n",
      "────────────────────────────────────────────────────────────────────────────────────────────────────────────────────────\n",
      "      test_accuracy         0.9584193229675293\n",
      "        test_loss           0.13163208961486816\n",
      "────────────────────────────────────────────────────────────────────────────────────────────────────────────────────────\n"
     ]
    }
   ],
   "execution_count": 127
  },
  {
   "metadata": {},
   "cell_type": "markdown",
   "source": "# **Use MLFlow for track experiment**",
   "id": "2d4a3fe758d41d48"
  },
  {
   "metadata": {
    "ExecuteTime": {
     "end_time": "2025-08-27T13:48:35.958440Z",
     "start_time": "2025-08-27T13:48:35.954708Z"
    }
   },
   "cell_type": "code",
   "source": [
    "''' Set Experiment name '''\n",
    "mlflow.set_experiment('Deep_Learning')"
   ],
   "id": "26275f7cced19cd6",
   "outputs": [
    {
     "data": {
      "text/plain": [
       "<Experiment: artifact_location='file:///Users/mahadiur/Desktop/Experiment%20Track%20Using%20MLFlow/Notebook/mlruns/414246106038771448', creation_time=1756301445107, experiment_id='414246106038771448', last_update_time=1756301445107, lifecycle_stage='active', name='Deep_Learning', tags={}>"
      ]
     },
     "execution_count": 128,
     "metadata": {},
     "output_type": "execute_result"
    }
   ],
   "execution_count": 128
  },
  {
   "metadata": {
    "ExecuteTime": {
     "end_time": "2025-08-27T13:48:39.643205Z",
     "start_time": "2025-08-27T13:48:35.965786Z"
    }
   },
   "cell_type": "code",
   "source": [
    "with mlflow.start_run():\n",
    "    # Save Model Hyperparameters\n",
    "    mlflow.log_param('Learning Rate', Learning_Rate)\n",
    "    mlflow.log_param('Epochs', Epochs)\n",
    "    mlflow.log_param('Batch Size', Batch_size)\n",
    "\n",
    "    # Training Model\n",
    "    Training.fit(\n",
    "        model=Model,\n",
    "        train_dataloaders=Train_Dataloader,\n",
    "        val_dataloaders=Validation_Dataloader,\n",
    "    )\n",
    "\n",
    "    # Save Best Model\n",
    "    best_model_path = checkpoints_callback.best_model_path\n",
    "    print(best_model_path)\n",
    "    best_model = DigitClass.load_from_checkpoint(best_model_path)\n",
    "\n",
    "    # Evaluate Model\n",
    "    score = Training.test(\n",
    "        model=best_model,\n",
    "        dataloaders=Test_Dataloader,\n",
    "    )\n",
    "\n",
    "    # Save Model Test loss & Test Accuracy\n",
    "    mlflow.log_metric('test_accuracy', score[0]['test_accuracy'])\n",
    "    mlflow.log_metric('test_loss', score[0]['test_loss'])\n",
    "\n",
    "    # Save Model\n",
    "    pixels_batch = next(iter(Test_Dataloader))[0]\n",
    "    pixels_batch = pixels_batch.cpu().numpy()\n",
    "\n",
    "    signature = infer_signature(Model, pixels_batch)\n",
    "\n",
    "    mlflow.pytorch.log_model(\n",
    "        pytorch_model=best_model,\n",
    "        artifact_path=saved_model_dir,\n",
    "        input_example=pixels_batch,\n",
    "        signature=signature,\n",
    "    )\n",
    "\n",
    "    import shutil\n",
    "    shutil.copyfile(source_code_path,source_code)\n",
    "    mlflow.log_artifact(source_code)"
   ],
   "id": "90c7f734d6fac58e",
   "outputs": [
    {
     "name": "stderr",
     "output_type": "stream",
     "text": [
      "/Library/Frameworks/Python.framework/Versions/3.13/lib/python3.13/site-packages/pytorch_lightning/callbacks/model_checkpoint.py:701: Checkpoint directory /Users/mahadiur/Desktop/Experiment Track Using MLFlow/Notebook/lightning_logs/version_4/checkpoints exists and is not empty.\n",
      "\n",
      "  | Name      | Type             | Params | Mode \n",
      "-------------------------------------------------------\n",
      "0 | criterion | CrossEntropyLoss | 0      | train\n",
      "1 | layer1    | Linear           | 100 K  | train\n",
      "2 | layer2    | Linear           | 4.1 K  | train\n",
      "3 | layer3    | Linear           | 330    | train\n",
      "4 | relu      | ReLU             | 0      | train\n",
      "-------------------------------------------------------\n",
      "104 K     Trainable params\n",
      "0         Non-trainable params\n",
      "104 K     Total params\n",
      "0.420     Total estimated model params size (MB)\n",
      "5         Modules in train mode\n",
      "0         Modules in eval mode\n"
     ]
    },
    {
     "name": "stdout",
     "output_type": "stream",
     "text": [
      "                                                                            \r"
     ]
    },
    {
     "name": "stderr",
     "output_type": "stream",
     "text": [
      "/var/folders/s5/yp49k9zd4457sltd30xmn_2m0000gn/T/ipykernel_3313/1280284542.py:14: FutureWarning: Calling int on a single element Series is deprecated and will raise a TypeError in the future. Use int(ser.iloc[0]) instead\n",
      "  labels = int(example[0:1])\n",
      "`Trainer.fit` stopped: `max_epochs=2` reached.\n"
     ]
    },
    {
     "name": "stdout",
     "output_type": "stream",
     "text": [
      "/Users/mahadiur/Desktop/Experiment Track Using MLFlow/Notebook/lightning_logs/version_4/checkpoints/epoch=1-step=1838.ckpt\n",
      "Testing DataLoader 0: 100%|██████████| 197/197 [00:00<00:00, 258.26it/s]\n",
      "────────────────────────────────────────────────────────────────────────────────────────────────────────────────────────\n",
      "       Test metric             DataLoader 0\n",
      "────────────────────────────────────────────────────────────────────────────────────────────────────────────────────────\n",
      "      test_accuracy         0.9584193229675293\n",
      "        test_loss           0.13163208961486816\n",
      "────────────────────────────────────────────────────────────────────────────────────────────────────────────────────────\n"
     ]
    },
    {
     "name": "stderr",
     "output_type": "stream",
     "text": [
      "2025/08/27 06:48:36 WARNING mlflow.models.signature: Failed to infer schema for inputs. Setting schema to `Schema([ColSpec(type=AnyType())]` as default. Note that MLflow doesn't validate data types during inference for AnyType. To see the full traceback, set logging level to DEBUG.\n",
      "2025/08/27 06:48:36 WARNING mlflow.models.model: `artifact_path` is deprecated. Please use `name` instead.\n",
      "2025/08/27 06:48:39 WARNING mlflow.models.model: Failed to validate serving input example {\n",
      "  \"inputs\": [\n",
      "    [\n",
      "      [\n",
      "        [\n",
      "          .... Alternatively, you can avoid passing input example and pass model signature instead when logging the model. To ensure the input example is valid prior to serving, please try calling `mlflow.models.validate_serving_input` on the model uri and serving input example. A serving input example can be generated from model input example using `mlflow.models.convert_input_example_to_serving_input` function.\n",
      "Got error: setting an array element with a sequence.\n"
     ]
    }
   ],
   "execution_count": 129
  },
  {
   "metadata": {
    "ExecuteTime": {
     "end_time": "2025-08-27T13:48:39.650330Z",
     "start_time": "2025-08-27T13:48:39.648677Z"
    }
   },
   "cell_type": "code",
   "source": [
    "''' Launch the experiment '''\n",
    "print(f'mlflow ui --backend-store-uri {mlflow.get_tracking_uri()}')"
   ],
   "id": "d6cf966c286f21ce",
   "outputs": [
    {
     "name": "stdout",
     "output_type": "stream",
     "text": [
      "mlflow ui --backend-store-uri file:///Users/mahadiur/Desktop/Experiment%20Track%20Using%20MLFlow/Notebook/mlruns\n"
     ]
    }
   ],
   "execution_count": 130
  },
  {
   "metadata": {},
   "cell_type": "markdown",
   "source": "### **Thank You**",
   "id": "ab14c0b7090ff8e5"
  }
 ],
 "metadata": {
  "kernelspec": {
   "display_name": "Python 3",
   "language": "python",
   "name": "python3"
  },
  "language_info": {
   "codemirror_mode": {
    "name": "ipython",
    "version": 2
   },
   "file_extension": ".py",
   "mimetype": "text/x-python",
   "name": "python",
   "nbconvert_exporter": "python",
   "pygments_lexer": "ipython2",
   "version": "2.7.6"
  }
 },
 "nbformat": 4,
 "nbformat_minor": 5
}
