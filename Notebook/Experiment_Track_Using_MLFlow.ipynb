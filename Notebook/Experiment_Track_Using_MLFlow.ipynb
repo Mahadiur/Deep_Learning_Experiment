{
 "cells": [
  {
   "metadata": {},
   "cell_type": "markdown",
   "source": "# **Experiment Track with using MLFlow**",
   "id": "a475f08938d34721"
  },
  {
   "metadata": {
    "ExecuteTime": {
     "end_time": "2025-08-27T13:16:37.413227Z",
     "start_time": "2025-08-27T13:16:37.409320Z"
    }
   },
   "cell_type": "code",
   "source": [
    "from tkinter.scrolledtext import example\n",
    "\n",
    "from sympy import print_tree\n",
    "\n",
    "''' Import all important libraries '''\n",
    "import os\n",
    "import pandas as pd\n",
    "import torch\n",
    "import torch.nn as nn\n",
    "from torchvision import transforms\n",
    "from torch.utils.data import Dataset, random_split, DataLoader\n",
    "from pytorch_lightning.callbacks import ModelCheckpoint, EarlyStopping\n",
    "import pytorch_lightning as pl\n",
    "from mlflow.models import infer_signature\n",
    "import matplotlib.pyplot as plt"
   ],
   "id": "da5a6179c1c5ce61",
   "outputs": [],
   "execution_count": 49
  },
  {
   "metadata": {
    "ExecuteTime": {
     "end_time": "2025-08-27T13:16:37.422470Z",
     "start_time": "2025-08-27T13:16:37.419677Z"
    }
   },
   "cell_type": "code",
   "source": [
    "Device = (torch.device('mps') if torch.mps.is_available() else torch.device('cpu'))\n",
    "print(Device)"
   ],
   "id": "e71e998ec1098023",
   "outputs": [
    {
     "name": "stdout",
     "output_type": "stream",
     "text": [
      "mps\n"
     ]
    }
   ],
   "execution_count": 50
  },
  {
   "metadata": {
    "ExecuteTime": {
     "end_time": "2025-08-27T13:16:37.432405Z",
     "start_time": "2025-08-27T13:16:37.429289Z"
    }
   },
   "cell_type": "code",
   "source": [
    "''' Hyperperameters '''\n",
    "torch.manual_seed(40)\n",
    "Batch_size = 32\n",
    "Epochs = 2\n",
    "Learning_Rate = 0.001"
   ],
   "id": "49f6c846e27d01c0",
   "outputs": [],
   "execution_count": 51
  },
  {
   "metadata": {
    "ExecuteTime": {
     "end_time": "2025-08-27T13:16:37.437908Z",
     "start_time": "2025-08-27T13:16:37.435954Z"
    }
   },
   "cell_type": "code",
   "source": [
    "''' Load data and define Source code path '''\n",
    "Root_path = '/Users/mahadiur/Desktop/Experiment Track Using MLFlow/Data'\n",
    "dataset_path = os.path.join(Root_path, 'DigitDataset.csv')\n",
    "\n",
    "saved_model_dir = 'models'\n",
    "source_code_path = os.path.join(\n",
    "    os.getcwd(),\n",
    "    'Experiment_Track_Using_MLFlow.ipynb'\n",
    ") # current file path\n",
    "\n",
    "source_code = 'trainer.ipynb'"
   ],
   "id": "e48339de396455bd",
   "outputs": [],
   "execution_count": 52
  },
  {
   "metadata": {},
   "cell_type": "markdown",
   "source": "# **Data Pipeline**",
   "id": "a6cef2a99b7b9947"
  },
  {
   "metadata": {
    "ExecuteTime": {
     "end_time": "2025-08-27T13:19:16.280590Z",
     "start_time": "2025-08-27T13:19:15.700582Z"
    }
   },
   "cell_type": "code",
   "source": [
    "digit_data = pd.read_csv(dataset_path)\n",
    "example = digit_data.iloc[0]\n",
    "pixel = example.values[1:]\n",
    "label = int(example.values[0:1])\n",
    "print(pixel.shape)\n",
    "print(label)"
   ],
   "id": "711b876743f235fa",
   "outputs": [
    {
     "name": "stdout",
     "output_type": "stream",
     "text": [
      "(784,)\n",
      "1\n"
     ]
    },
    {
     "name": "stderr",
     "output_type": "stream",
     "text": [
      "/var/folders/s5/yp49k9zd4457sltd30xmn_2m0000gn/T/ipykernel_3313/1057430082.py:4: DeprecationWarning: Conversion of an array with ndim > 0 to a scalar is deprecated, and will error in future. Ensure you extract a single element from your array before performing this operation. (Deprecated NumPy 1.25.)\n",
      "  label = int(example.values[0:1])\n"
     ]
    }
   ],
   "execution_count": 66
  },
  {
   "metadata": {
    "ExecuteTime": {
     "end_time": "2025-08-27T13:16:38.024318Z",
     "start_time": "2025-08-27T13:16:38.022341Z"
    }
   },
   "cell_type": "code",
   "source": [
    "class DataPipeline(Dataset):\n",
    "    def __init__(self, data_path, transform=None):\n",
    "        super().__init__()\n",
    "        self.data = pd.read_csv(data_path)\n",
    "        self.transformation = transform\n",
    "\n",
    "    def __len__(self):\n",
    "        return len(self.data)\n",
    "\n",
    "    def __getitem__(self, idx):\n",
    "        example = self.data.iloc[idx]\n",
    "        pixels = example.values[1:].astype('float32')\n",
    "        pixels /= 255\n",
    "        labels = int(example[0:1])\n",
    "\n",
    "        pixels = torch.tensor(pixels).reshape(28, 28).unsqueeze(0)\n",
    "        labels = torch.tensor(labels)\n",
    "\n",
    "\n",
    "        if self.transformation:\n",
    "            pixels = self.transformation(pixels)\n",
    "\n",
    "        return  pixels, labels"
   ],
   "id": "c8e166660d6b46cf",
   "outputs": [],
   "execution_count": 54
  },
  {
   "metadata": {
    "ExecuteTime": {
     "end_time": "2025-08-27T13:16:38.027371Z",
     "start_time": "2025-08-27T13:16:38.026007Z"
    }
   },
   "cell_type": "code",
   "source": [
    "Transformation = transforms.Compose([\n",
    "    transforms.Normalize(\n",
    "        mean=(torch.tensor([0.1307])),\n",
    "        std=(torch.tensor([0.3081])),\n",
    "    )\n",
    "])"
   ],
   "id": "42f867673fb89c43",
   "outputs": [],
   "execution_count": 55
  },
  {
   "metadata": {
    "ExecuteTime": {
     "end_time": "2025-08-27T13:16:38.561629Z",
     "start_time": "2025-08-27T13:16:38.029622Z"
    }
   },
   "cell_type": "code",
   "source": [
    "dataset = DataPipeline(\n",
    "    dataset_path,\n",
    "    Transformation\n",
    ")\n",
    "print(len(dataset))"
   ],
   "id": "57516332f047fcd",
   "outputs": [
    {
     "name": "stdout",
     "output_type": "stream",
     "text": [
      "42000\n"
     ]
    }
   ],
   "execution_count": 56
  },
  {
   "metadata": {},
   "cell_type": "markdown",
   "source": "# **Split Train, Test & Validation**",
   "id": "1599d9c420d1256a"
  },
  {
   "metadata": {
    "ExecuteTime": {
     "end_time": "2025-08-27T13:16:38.570067Z",
     "start_time": "2025-08-27T13:16:38.567466Z"
    }
   },
   "cell_type": "code",
   "source": [
    "Train_size = int(0.7 * len(dataset))\n",
    "Validation_size = int(0.15 * len(dataset))\n",
    "Test_size = len(dataset) - Train_size - Validation_size\n",
    "\n",
    "Training_dataset, Validation_dataset, Test_dataset = random_split(\n",
    "    dataset=dataset,\n",
    "    lengths=[Train_size, Validation_size, Test_size],\n",
    ")\n",
    "\n",
    "print(len(Training_dataset))\n",
    "print(len(Validation_dataset))\n",
    "print(len(Test_dataset))"
   ],
   "id": "db0ef449c14c1c4d",
   "outputs": [
    {
     "name": "stdout",
     "output_type": "stream",
     "text": [
      "29399\n",
      "6300\n",
      "6301\n"
     ]
    }
   ],
   "execution_count": 57
  },
  {
   "metadata": {},
   "cell_type": "markdown",
   "source": "# **Dataloader for Train, Test & Validation**",
   "id": "342d3f6bb1452324"
  },
  {
   "metadata": {
    "ExecuteTime": {
     "end_time": "2025-08-27T13:16:38.574653Z",
     "start_time": "2025-08-27T13:16:38.572865Z"
    }
   },
   "cell_type": "code",
   "source": [
    "Train_Dataloader = DataLoader(\n",
    "    dataset=Training_dataset,\n",
    "    batch_size=Batch_size,\n",
    "    shuffle=True,\n",
    "\n",
    ")\n",
    "\n",
    "Validation_Dataloader = DataLoader(\n",
    "    dataset=Validation_dataset,\n",
    "    batch_size=Batch_size,\n",
    "    shuffle=False,\n",
    ")\n",
    "\n",
    "Test_Dataloader = DataLoader(\n",
    "    dataset=Test_dataset,\n",
    "    batch_size=Batch_size,\n",
    "    shuffle=False,\n",
    "\n",
    ")"
   ],
   "id": "bb6ec6b0c5666339",
   "outputs": [],
   "execution_count": 58
  },
  {
   "metadata": {
    "ExecuteTime": {
     "end_time": "2025-08-27T13:16:38.589798Z",
     "start_time": "2025-08-27T13:16:38.578705Z"
    }
   },
   "cell_type": "code",
   "source": [
    "for pixels, labels in Train_Dataloader:\n",
    "    print(pixels.shape)\n",
    "    print(labels.shape)\n",
    "    break"
   ],
   "id": "6d69c84b434dad6f",
   "outputs": [
    {
     "name": "stdout",
     "output_type": "stream",
     "text": [
      "torch.Size([32, 1, 28, 28])\n",
      "torch.Size([32])\n"
     ]
    },
    {
     "name": "stderr",
     "output_type": "stream",
     "text": [
      "/var/folders/s5/yp49k9zd4457sltd30xmn_2m0000gn/T/ipykernel_3313/1280284542.py:14: FutureWarning: Calling int on a single element Series is deprecated and will raise a TypeError in the future. Use int(ser.iloc[0]) instead\n",
      "  labels = int(example[0:1])\n"
     ]
    }
   ],
   "execution_count": 59
  },
  {
   "metadata": {},
   "cell_type": "markdown",
   "source": "# **DigitClassifiar class**",
   "id": "de2a44a1288d2421"
  },
  {
   "metadata": {
    "ExecuteTime": {
     "end_time": "2025-08-27T13:16:38.594922Z",
     "start_time": "2025-08-27T13:16:38.592002Z"
    }
   },
   "cell_type": "code",
   "source": [
    "class DigitClass(pl.LightningModule):\n",
    "    def __init__(self):\n",
    "        super().__init__()\n",
    "        self.criterion = nn.CrossEntropyLoss()\n",
    "        self.layer1 = nn.Linear(28 * 28, 128)\n",
    "        self.layer2 = nn.Linear(128, 32)\n",
    "        self.layer3 = nn.Linear(32, 10)\n",
    "        self.relu = nn.ReLU()\n",
    "\n",
    "    def forward(self, x):\n",
    "        x = x.view(-1, 28 * 28)\n",
    "        x = self.layer1(x)\n",
    "        x = self.relu(x)\n",
    "        x = self.layer2(x)\n",
    "        x = self.relu(x)\n",
    "        x = self.layer3(x)\n",
    "        return x\n",
    "\n",
    "    # Gradient Decent\n",
    "    def configure_optimizers(self):\n",
    "        optimizer = torch.optim.Adam(self.parameters(), lr=Learning_Rate)\n",
    "        return optimizer\n",
    "\n",
    "    # Training Step\n",
    "    def training_step(self, batch, batch_idx):\n",
    "        pixels, labels = batch\n",
    "        pixels = pixels.to(Device)\n",
    "        labels = labels.to(Device)\n",
    "        outputs = self.forward(pixels)\n",
    "        loss = self.criterion(outputs, labels)\n",
    "        self.log('Train_loss', loss)\n",
    "        return loss\n",
    "\n",
    "    # Validation Step\n",
    "    def validation_step(self, batch, batch_idx):\n",
    "        pixels, labels = batch\n",
    "        pixels = pixels.to(Device)\n",
    "        labels = labels.to(Device)\n",
    "        outputs = self.forward(pixels)\n",
    "        loss = self.criterion(outputs, labels)\n",
    "        accuracy = (torch.argmax(outputs, dim=1) == labels).float().mean()\n",
    "        self.log('val_loss', loss, prog_bar=True)\n",
    "        self.log('val_accuracy', accuracy, prog_bar=True)\n",
    "\n",
    "    # Test Step\n",
    "    def test_step(self, batch, batch_idx):\n",
    "        pixels, labels= batch\n",
    "        pixels = pixels.to(Device)\n",
    "        labels = labels.to(Device)\n",
    "        outputs = self.forward(pixels)\n",
    "        loss = self.criterion(outputs, labels)\n",
    "        accuracy = (torch.argmax(outputs, dim=1) == labels).float().mean()\n",
    "        self.log('test_loss', loss, prog_bar=True)\n",
    "        self.log('test_accuracy', accuracy, prog_bar=True)\n",
    "\n"
   ],
   "id": "eb29faacc0f352d0",
   "outputs": [],
   "execution_count": 60
  },
  {
   "metadata": {
    "ExecuteTime": {
     "end_time": "2025-08-27T13:16:38.601279Z",
     "start_time": "2025-08-27T13:16:38.596970Z"
    }
   },
   "cell_type": "code",
   "source": "Model = DigitClass().to(Device)",
   "id": "3b85322f6cbfa59a",
   "outputs": [],
   "execution_count": 61
  },
  {
   "metadata": {
    "ExecuteTime": {
     "end_time": "2025-08-27T13:16:38.604908Z",
     "start_time": "2025-08-27T13:16:38.603106Z"
    }
   },
   "cell_type": "code",
   "source": [
    "Early_stopping = EarlyStopping(\n",
    "    monitor='val_loss',\n",
    "    patience=3,\n",
    "    verbose=True,\n",
    ")\n",
    "\n",
    "checkpoints_callback = ModelCheckpoint(\n",
    "    monitor='val_accuracy',\n",
    "    save_top_k=1,\n",
    "    mode='max',\n",
    ")\n",
    "\n",
    "checkpoints_path = os.path.join(\n",
    "    os.getcwd(),'checkpoints','Best_Model.pth'\n",
    ")"
   ],
   "id": "2d6c491799a9974",
   "outputs": [],
   "execution_count": 62
  },
  {
   "metadata": {},
   "cell_type": "markdown",
   "source": "# **Train**",
   "id": "1f1509c131b8080d"
  },
  {
   "metadata": {
    "ExecuteTime": {
     "end_time": "2025-08-27T13:16:38.619558Z",
     "start_time": "2025-08-27T13:16:38.607600Z"
    }
   },
   "cell_type": "code",
   "source": [
    "Training = pl.Trainer(\n",
    "    max_epochs=Epochs,\n",
    "    callbacks=[checkpoints_callback, Early_stopping],\n",
    ")"
   ],
   "id": "56ad6edf5d457194",
   "outputs": [
    {
     "name": "stderr",
     "output_type": "stream",
     "text": [
      "GPU available: True (mps), used: True\n",
      "TPU available: False, using: 0 TPU cores\n",
      "HPU available: False, using: 0 HPUs\n"
     ]
    }
   ],
   "execution_count": 63
  },
  {
   "metadata": {
    "ExecuteTime": {
     "end_time": "2025-08-27T13:16:50.062493Z",
     "start_time": "2025-08-27T13:16:38.624952Z"
    }
   },
   "cell_type": "code",
   "source": [
    "Training.fit(\n",
    "    model=Model,\n",
    "    train_dataloaders=Train_Dataloader,\n",
    "    val_dataloaders=Validation_Dataloader,\n",
    ")"
   ],
   "id": "f4fc422cbc395353",
   "outputs": [
    {
     "name": "stderr",
     "output_type": "stream",
     "text": [
      "\n",
      "  | Name      | Type             | Params | Mode \n",
      "-------------------------------------------------------\n",
      "0 | criterion | CrossEntropyLoss | 0      | train\n",
      "1 | layer1    | Linear           | 100 K  | train\n",
      "2 | layer2    | Linear           | 4.1 K  | train\n",
      "3 | layer3    | Linear           | 330    | train\n",
      "4 | relu      | ReLU             | 0      | train\n",
      "-------------------------------------------------------\n",
      "104 K     Trainable params\n",
      "0         Non-trainable params\n",
      "104 K     Total params\n",
      "0.420     Total estimated model params size (MB)\n",
      "5         Modules in train mode\n",
      "0         Modules in eval mode\n"
     ]
    },
    {
     "name": "stdout",
     "output_type": "stream",
     "text": [
      "                                                                            "
     ]
    },
    {
     "name": "stderr",
     "output_type": "stream",
     "text": [
      "/Library/Frameworks/Python.framework/Versions/3.13/lib/python3.13/site-packages/pytorch_lightning/trainer/connectors/data_connector.py:433: The 'val_dataloader' does not have many workers which may be a bottleneck. Consider increasing the value of the `num_workers` argument` to `num_workers=9` in the `DataLoader` to improve performance.\n",
      "/var/folders/s5/yp49k9zd4457sltd30xmn_2m0000gn/T/ipykernel_3313/1280284542.py:14: FutureWarning: Calling int on a single element Series is deprecated and will raise a TypeError in the future. Use int(ser.iloc[0]) instead\n",
      "  labels = int(example[0:1])\n",
      "/Library/Frameworks/Python.framework/Versions/3.13/lib/python3.13/site-packages/pytorch_lightning/trainer/connectors/data_connector.py:433: The 'train_dataloader' does not have many workers which may be a bottleneck. Consider increasing the value of the `num_workers` argument` to `num_workers=9` in the `DataLoader` to improve performance.\n"
     ]
    },
    {
     "name": "stdout",
     "output_type": "stream",
     "text": [
      "Epoch 0: 100%|██████████| 919/919 [00:04<00:00, 193.03it/s, v_num=1]\n",
      "Validation: |          | 0/? [00:00<?, ?it/s]\u001B[A\n",
      "Validation:   0%|          | 0/197 [00:00<?, ?it/s]\u001B[A\n",
      "Validation DataLoader 0:   0%|          | 0/197 [00:00<?, ?it/s]\u001B[A\n",
      "Validation DataLoader 0:   1%|          | 1/197 [00:00<00:00, 391.84it/s]\u001B[A\n",
      "Validation DataLoader 0:   1%|          | 2/197 [00:00<00:00, 267.09it/s]\u001B[A\n",
      "Validation DataLoader 0:   2%|▏         | 3/197 [00:00<00:00, 229.96it/s]\u001B[A\n",
      "Validation DataLoader 0:   2%|▏         | 4/197 [00:00<00:00, 209.74it/s]\u001B[A\n",
      "Validation DataLoader 0:   3%|▎         | 5/197 [00:00<00:00, 213.31it/s]\u001B[A\n",
      "Validation DataLoader 0:   3%|▎         | 6/197 [00:00<00:00, 212.93it/s]\u001B[A\n",
      "Validation DataLoader 0:   4%|▎         | 7/197 [00:00<00:00, 214.84it/s]\u001B[A\n",
      "Validation DataLoader 0:   4%|▍         | 8/197 [00:00<00:00, 205.09it/s]\u001B[A\n",
      "Validation DataLoader 0:   5%|▍         | 9/197 [00:00<00:00, 205.56it/s]\u001B[A\n",
      "Validation DataLoader 0:   5%|▌         | 10/197 [00:00<00:00, 201.30it/s]\u001B[A\n",
      "Validation DataLoader 0:   6%|▌         | 11/197 [00:00<00:00, 196.67it/s]\u001B[A\n",
      "Validation DataLoader 0:   6%|▌         | 12/197 [00:00<00:00, 198.75it/s]\u001B[A\n",
      "Validation DataLoader 0:   7%|▋         | 13/197 [00:00<00:00, 198.45it/s]\u001B[A\n",
      "Validation DataLoader 0:   7%|▋         | 14/197 [00:00<00:00, 198.89it/s]\u001B[A\n",
      "Validation DataLoader 0:   8%|▊         | 15/197 [00:00<00:00, 200.64it/s]\u001B[A\n",
      "Validation DataLoader 0:   8%|▊         | 16/197 [00:00<00:00, 199.84it/s]\u001B[A\n",
      "Validation DataLoader 0:   9%|▊         | 17/197 [00:00<00:00, 199.94it/s]\u001B[A\n",
      "Validation DataLoader 0:   9%|▉         | 18/197 [00:00<00:00, 199.60it/s]\u001B[A\n",
      "Validation DataLoader 0:  10%|▉         | 19/197 [00:00<00:00, 198.57it/s]\u001B[A\n",
      "Validation DataLoader 0:  10%|█         | 20/197 [00:00<00:00, 198.43it/s]\u001B[A\n",
      "Validation DataLoader 0:  11%|█         | 21/197 [00:00<00:00, 199.12it/s]\u001B[A\n",
      "Validation DataLoader 0:  11%|█         | 22/197 [00:00<00:00, 198.29it/s]\u001B[A\n",
      "Validation DataLoader 0:  12%|█▏        | 23/197 [00:00<00:00, 199.13it/s]\u001B[A\n",
      "Validation DataLoader 0:  12%|█▏        | 24/197 [00:00<00:00, 199.09it/s]\u001B[A\n",
      "Validation DataLoader 0:  13%|█▎        | 25/197 [00:00<00:00, 196.97it/s]\u001B[A\n",
      "Validation DataLoader 0:  13%|█▎        | 26/197 [00:00<00:00, 197.87it/s]\u001B[A\n",
      "Validation DataLoader 0:  14%|█▎        | 27/197 [00:00<00:00, 197.07it/s]\u001B[A\n",
      "Validation DataLoader 0:  14%|█▍        | 28/197 [00:00<00:00, 198.38it/s]\u001B[A\n",
      "Validation DataLoader 0:  15%|█▍        | 29/197 [00:00<00:00, 198.25it/s]\u001B[A\n",
      "Validation DataLoader 0:  15%|█▌        | 30/197 [00:00<00:00, 198.34it/s]\u001B[A\n",
      "Validation DataLoader 0:  16%|█▌        | 31/197 [00:00<00:00, 197.83it/s]\u001B[A\n",
      "Validation DataLoader 0:  16%|█▌        | 32/197 [00:00<00:00, 197.50it/s]\u001B[A\n",
      "Validation DataLoader 0:  17%|█▋        | 33/197 [00:00<00:00, 197.11it/s]\u001B[A\n",
      "Validation DataLoader 0:  17%|█▋        | 34/197 [00:00<00:00, 197.01it/s]\u001B[A\n",
      "Validation DataLoader 0:  18%|█▊        | 35/197 [00:00<00:00, 197.81it/s]\u001B[A\n",
      "Validation DataLoader 0:  18%|█▊        | 36/197 [00:00<00:00, 197.21it/s]\u001B[A\n",
      "Validation DataLoader 0:  19%|█▉        | 37/197 [00:00<00:00, 195.47it/s]\u001B[A\n",
      "Validation DataLoader 0:  19%|█▉        | 38/197 [00:00<00:00, 195.51it/s]\u001B[A\n",
      "Validation DataLoader 0:  20%|█▉        | 39/197 [00:00<00:00, 195.70it/s]\u001B[A\n",
      "Validation DataLoader 0:  20%|██        | 40/197 [00:00<00:00, 194.42it/s]\u001B[A\n",
      "Validation DataLoader 0:  21%|██        | 41/197 [00:00<00:00, 194.61it/s]\u001B[A\n",
      "Validation DataLoader 0:  21%|██▏       | 42/197 [00:00<00:00, 194.93it/s]\u001B[A\n",
      "Validation DataLoader 0:  22%|██▏       | 43/197 [00:00<00:00, 195.44it/s]\u001B[A\n",
      "Validation DataLoader 0:  22%|██▏       | 44/197 [00:00<00:00, 195.08it/s]\u001B[A\n",
      "Validation DataLoader 0:  23%|██▎       | 45/197 [00:00<00:00, 195.37it/s]\u001B[A\n",
      "Validation DataLoader 0:  23%|██▎       | 46/197 [00:00<00:00, 195.17it/s]\u001B[A\n",
      "Validation DataLoader 0:  24%|██▍       | 47/197 [00:00<00:00, 195.97it/s]\u001B[A\n",
      "Validation DataLoader 0:  24%|██▍       | 48/197 [00:00<00:00, 195.68it/s]\u001B[A\n",
      "Validation DataLoader 0:  25%|██▍       | 49/197 [00:00<00:00, 194.85it/s]\u001B[A\n",
      "Validation DataLoader 0:  25%|██▌       | 50/197 [00:00<00:00, 195.13it/s]\u001B[A\n",
      "Validation DataLoader 0:  26%|██▌       | 51/197 [00:00<00:00, 195.07it/s]\u001B[A\n",
      "Validation DataLoader 0:  26%|██▋       | 52/197 [00:00<00:00, 195.14it/s]\u001B[A\n",
      "Validation DataLoader 0:  27%|██▋       | 53/197 [00:00<00:00, 194.68it/s]\u001B[A\n",
      "Validation DataLoader 0:  27%|██▋       | 54/197 [00:00<00:00, 194.90it/s]\u001B[A\n",
      "Validation DataLoader 0:  28%|██▊       | 55/197 [00:00<00:00, 195.55it/s]\u001B[A\n",
      "Validation DataLoader 0:  28%|██▊       | 56/197 [00:00<00:00, 196.25it/s]\u001B[A\n",
      "Validation DataLoader 0:  29%|██▉       | 57/197 [00:00<00:00, 196.84it/s]\u001B[A\n",
      "Validation DataLoader 0:  29%|██▉       | 58/197 [00:00<00:00, 196.53it/s]\u001B[A\n",
      "Validation DataLoader 0:  30%|██▉       | 59/197 [00:00<00:00, 196.78it/s]\u001B[A\n",
      "Validation DataLoader 0:  30%|███       | 60/197 [00:00<00:00, 196.17it/s]\u001B[A\n",
      "Validation DataLoader 0:  31%|███       | 61/197 [00:00<00:00, 196.84it/s]\u001B[A\n",
      "Validation DataLoader 0:  31%|███▏      | 62/197 [00:00<00:00, 197.33it/s]\u001B[A\n",
      "Validation DataLoader 0:  32%|███▏      | 63/197 [00:00<00:00, 196.70it/s]\u001B[A\n",
      "Validation DataLoader 0:  32%|███▏      | 64/197 [00:00<00:00, 197.17it/s]\u001B[A\n",
      "Validation DataLoader 0:  33%|███▎      | 65/197 [00:00<00:00, 197.56it/s]\u001B[A\n",
      "Validation DataLoader 0:  34%|███▎      | 66/197 [00:00<00:00, 198.04it/s]\u001B[A\n",
      "Validation DataLoader 0:  34%|███▍      | 67/197 [00:00<00:00, 197.57it/s]\u001B[A\n",
      "Validation DataLoader 0:  35%|███▍      | 68/197 [00:00<00:00, 197.89it/s]\u001B[A\n",
      "Validation DataLoader 0:  35%|███▌      | 69/197 [00:00<00:00, 198.31it/s]\u001B[A\n",
      "Validation DataLoader 0:  36%|███▌      | 70/197 [00:00<00:00, 197.76it/s]\u001B[A\n",
      "Validation DataLoader 0:  36%|███▌      | 71/197 [00:00<00:00, 198.10it/s]\u001B[A\n",
      "Validation DataLoader 0:  37%|███▋      | 72/197 [00:00<00:00, 198.43it/s]\u001B[A\n",
      "Validation DataLoader 0:  37%|███▋      | 73/197 [00:00<00:00, 198.22it/s]\u001B[A\n",
      "Validation DataLoader 0:  38%|███▊      | 74/197 [00:00<00:00, 198.67it/s]\u001B[A\n",
      "Validation DataLoader 0:  38%|███▊      | 75/197 [00:00<00:00, 198.99it/s]\u001B[A\n",
      "Validation DataLoader 0:  39%|███▊      | 76/197 [00:00<00:00, 199.18it/s]\u001B[A\n",
      "Validation DataLoader 0:  39%|███▉      | 77/197 [00:00<00:00, 199.53it/s]\u001B[A\n",
      "Validation DataLoader 0:  40%|███▉      | 78/197 [00:00<00:00, 199.94it/s]\u001B[A\n",
      "Validation DataLoader 0:  40%|████      | 79/197 [00:00<00:00, 200.34it/s]\u001B[A\n",
      "Validation DataLoader 0:  41%|████      | 80/197 [00:00<00:00, 200.06it/s]\u001B[A\n",
      "Validation DataLoader 0:  41%|████      | 81/197 [00:00<00:00, 199.52it/s]\u001B[A\n",
      "Validation DataLoader 0:  42%|████▏     | 82/197 [00:00<00:00, 200.00it/s]\u001B[A\n",
      "Validation DataLoader 0:  42%|████▏     | 83/197 [00:00<00:00, 200.30it/s]\u001B[A\n",
      "Validation DataLoader 0:  43%|████▎     | 84/197 [00:00<00:00, 200.55it/s]\u001B[A\n",
      "Validation DataLoader 0:  43%|████▎     | 85/197 [00:00<00:00, 200.85it/s]\u001B[A\n",
      "Validation DataLoader 0:  44%|████▎     | 86/197 [00:00<00:00, 201.25it/s]\u001B[A\n",
      "Validation DataLoader 0:  44%|████▍     | 87/197 [00:00<00:00, 200.93it/s]\u001B[A\n",
      "Validation DataLoader 0:  45%|████▍     | 88/197 [00:00<00:00, 200.42it/s]\u001B[A\n",
      "Validation DataLoader 0:  45%|████▌     | 89/197 [00:00<00:00, 200.78it/s]\u001B[A\n",
      "Validation DataLoader 0:  46%|████▌     | 90/197 [00:00<00:00, 201.07it/s]\u001B[A\n",
      "Validation DataLoader 0:  46%|████▌     | 91/197 [00:00<00:00, 201.39it/s]\u001B[A\n",
      "Validation DataLoader 0:  47%|████▋     | 92/197 [00:00<00:00, 201.23it/s]\u001B[A\n",
      "Validation DataLoader 0:  47%|████▋     | 93/197 [00:00<00:00, 201.11it/s]\u001B[A\n",
      "Validation DataLoader 0:  48%|████▊     | 94/197 [00:00<00:00, 201.36it/s]\u001B[A\n",
      "Validation DataLoader 0:  48%|████▊     | 95/197 [00:00<00:00, 201.29it/s]\u001B[A\n",
      "Validation DataLoader 0:  49%|████▊     | 96/197 [00:00<00:00, 200.79it/s]\u001B[A\n",
      "Validation DataLoader 0:  49%|████▉     | 97/197 [00:00<00:00, 201.01it/s]\u001B[A\n",
      "Validation DataLoader 0:  50%|████▉     | 98/197 [00:00<00:00, 201.24it/s]\u001B[A\n",
      "Validation DataLoader 0:  50%|█████     | 99/197 [00:00<00:00, 201.63it/s]\u001B[A\n",
      "Validation DataLoader 0:  51%|█████     | 100/197 [00:00<00:00, 201.89it/s]\u001B[A\n",
      "Validation DataLoader 0:  51%|█████▏    | 101/197 [00:00<00:00, 202.27it/s]\u001B[A\n",
      "Validation DataLoader 0:  52%|█████▏    | 102/197 [00:00<00:00, 202.15it/s]\u001B[A\n",
      "Validation DataLoader 0:  52%|█████▏    | 103/197 [00:00<00:00, 202.42it/s]\u001B[A\n",
      "Validation DataLoader 0:  53%|█████▎    | 104/197 [00:00<00:00, 202.60it/s]\u001B[A\n",
      "Validation DataLoader 0:  53%|█████▎    | 105/197 [00:00<00:00, 202.85it/s]\u001B[A\n",
      "Validation DataLoader 0:  54%|█████▍    | 106/197 [00:00<00:00, 202.90it/s]\u001B[A\n",
      "Validation DataLoader 0:  54%|█████▍    | 107/197 [00:00<00:00, 203.14it/s]\u001B[A\n",
      "Validation DataLoader 0:  55%|█████▍    | 108/197 [00:00<00:00, 203.54it/s]\u001B[A\n",
      "Validation DataLoader 0:  55%|█████▌    | 109/197 [00:00<00:00, 203.77it/s]\u001B[A\n",
      "Validation DataLoader 0:  56%|█████▌    | 110/197 [00:00<00:00, 204.02it/s]\u001B[A\n",
      "Validation DataLoader 0:  56%|█████▋    | 111/197 [00:00<00:00, 203.78it/s]\u001B[A\n",
      "Validation DataLoader 0:  57%|█████▋    | 112/197 [00:00<00:00, 204.07it/s]\u001B[A\n",
      "Validation DataLoader 0:  57%|█████▋    | 113/197 [00:00<00:00, 203.62it/s]\u001B[A\n",
      "Validation DataLoader 0:  58%|█████▊    | 114/197 [00:00<00:00, 203.86it/s]\u001B[A\n",
      "Validation DataLoader 0:  58%|█████▊    | 115/197 [00:00<00:00, 204.01it/s]\u001B[A\n",
      "Validation DataLoader 0:  59%|█████▉    | 116/197 [00:00<00:00, 203.57it/s]\u001B[A\n",
      "Validation DataLoader 0:  59%|█████▉    | 117/197 [00:00<00:00, 203.75it/s]\u001B[A\n",
      "Validation DataLoader 0:  60%|█████▉    | 118/197 [00:00<00:00, 203.83it/s]\u001B[A\n",
      "Validation DataLoader 0:  60%|██████    | 119/197 [00:00<00:00, 203.89it/s]\u001B[A\n",
      "Validation DataLoader 0:  61%|██████    | 120/197 [00:00<00:00, 203.88it/s]\u001B[A\n",
      "Validation DataLoader 0:  61%|██████▏   | 121/197 [00:00<00:00, 204.00it/s]\u001B[A\n",
      "Validation DataLoader 0:  62%|██████▏   | 122/197 [00:00<00:00, 204.20it/s]\u001B[A\n",
      "Validation DataLoader 0:  62%|██████▏   | 123/197 [00:00<00:00, 204.49it/s]\u001B[A\n",
      "Validation DataLoader 0:  63%|██████▎   | 124/197 [00:00<00:00, 204.54it/s]\u001B[A\n",
      "Validation DataLoader 0:  63%|██████▎   | 125/197 [00:00<00:00, 204.62it/s]\u001B[A\n",
      "Validation DataLoader 0:  64%|██████▍   | 126/197 [00:00<00:00, 204.91it/s]\u001B[A\n",
      "Validation DataLoader 0:  64%|██████▍   | 127/197 [00:00<00:00, 204.91it/s]\u001B[A\n",
      "Validation DataLoader 0:  65%|██████▍   | 128/197 [00:00<00:00, 205.09it/s]\u001B[A\n",
      "Validation DataLoader 0:  65%|██████▌   | 129/197 [00:00<00:00, 204.72it/s]\u001B[A\n",
      "Validation DataLoader 0:  66%|██████▌   | 130/197 [00:00<00:00, 205.00it/s]\u001B[A\n",
      "Validation DataLoader 0:  66%|██████▋   | 131/197 [00:00<00:00, 205.15it/s]\u001B[A\n",
      "Validation DataLoader 0:  67%|██████▋   | 132/197 [00:00<00:00, 205.37it/s]\u001B[A\n",
      "Validation DataLoader 0:  68%|██████▊   | 133/197 [00:00<00:00, 205.51it/s]\u001B[A\n",
      "Validation DataLoader 0:  68%|██████▊   | 134/197 [00:00<00:00, 205.67it/s]\u001B[A\n",
      "Validation DataLoader 0:  69%|██████▊   | 135/197 [00:00<00:00, 205.89it/s]\u001B[A\n",
      "Validation DataLoader 0:  69%|██████▉   | 136/197 [00:00<00:00, 206.07it/s]\u001B[A\n",
      "Validation DataLoader 0:  70%|██████▉   | 137/197 [00:00<00:00, 206.24it/s]\u001B[A\n",
      "Validation DataLoader 0:  70%|███████   | 138/197 [00:00<00:00, 205.80it/s]\u001B[A\n",
      "Validation DataLoader 0:  71%|███████   | 139/197 [00:00<00:00, 205.94it/s]\u001B[A\n",
      "Validation DataLoader 0:  71%|███████   | 140/197 [00:00<00:00, 206.14it/s]\u001B[A\n",
      "Validation DataLoader 0:  72%|███████▏  | 141/197 [00:00<00:00, 206.03it/s]\u001B[A\n",
      "Validation DataLoader 0:  72%|███████▏  | 142/197 [00:00<00:00, 206.22it/s]\u001B[A\n",
      "Validation DataLoader 0:  73%|███████▎  | 143/197 [00:00<00:00, 206.42it/s]\u001B[A\n",
      "Validation DataLoader 0:  73%|███████▎  | 144/197 [00:00<00:00, 206.60it/s]\u001B[A\n",
      "Validation DataLoader 0:  74%|███████▎  | 145/197 [00:00<00:00, 206.42it/s]\u001B[A\n",
      "Validation DataLoader 0:  74%|███████▍  | 146/197 [00:00<00:00, 206.54it/s]\u001B[A\n",
      "Validation DataLoader 0:  75%|███████▍  | 147/197 [00:00<00:00, 206.68it/s]\u001B[A\n",
      "Validation DataLoader 0:  75%|███████▌  | 148/197 [00:00<00:00, 206.65it/s]\u001B[A\n",
      "Validation DataLoader 0:  76%|███████▌  | 149/197 [00:00<00:00, 206.30it/s]\u001B[A\n",
      "Validation DataLoader 0:  76%|███████▌  | 150/197 [00:00<00:00, 206.17it/s]\u001B[A\n",
      "Validation DataLoader 0:  77%|███████▋  | 151/197 [00:00<00:00, 206.31it/s]\u001B[A\n",
      "Validation DataLoader 0:  77%|███████▋  | 152/197 [00:00<00:00, 206.48it/s]\u001B[A\n",
      "Validation DataLoader 0:  78%|███████▊  | 153/197 [00:00<00:00, 206.65it/s]\u001B[A\n",
      "Validation DataLoader 0:  78%|███████▊  | 154/197 [00:00<00:00, 206.76it/s]\u001B[A\n",
      "Validation DataLoader 0:  79%|███████▊  | 155/197 [00:00<00:00, 206.93it/s]\u001B[A\n",
      "Validation DataLoader 0:  79%|███████▉  | 156/197 [00:00<00:00, 206.81it/s]\u001B[A\n",
      "Validation DataLoader 0:  80%|███████▉  | 157/197 [00:00<00:00, 206.63it/s]\u001B[A\n",
      "Validation DataLoader 0:  80%|████████  | 158/197 [00:00<00:00, 206.73it/s]\u001B[A\n",
      "Validation DataLoader 0:  81%|████████  | 159/197 [00:00<00:00, 206.96it/s]\u001B[A\n",
      "Validation DataLoader 0:  81%|████████  | 160/197 [00:00<00:00, 207.00it/s]\u001B[A\n",
      "Validation DataLoader 0:  82%|████████▏ | 161/197 [00:00<00:00, 207.08it/s]\u001B[A\n",
      "Validation DataLoader 0:  82%|████████▏ | 162/197 [00:00<00:00, 207.23it/s]\u001B[A\n",
      "Validation DataLoader 0:  83%|████████▎ | 163/197 [00:00<00:00, 206.55it/s]\u001B[A\n",
      "Validation DataLoader 0:  83%|████████▎ | 164/197 [00:00<00:00, 206.56it/s]\u001B[A\n",
      "Validation DataLoader 0:  84%|████████▍ | 165/197 [00:00<00:00, 206.41it/s]\u001B[A\n",
      "Validation DataLoader 0:  84%|████████▍ | 166/197 [00:00<00:00, 206.20it/s]\u001B[A\n",
      "Validation DataLoader 0:  85%|████████▍ | 167/197 [00:00<00:00, 206.34it/s]\u001B[A\n",
      "Validation DataLoader 0:  85%|████████▌ | 168/197 [00:00<00:00, 206.45it/s]\u001B[A\n",
      "Validation DataLoader 0:  86%|████████▌ | 169/197 [00:00<00:00, 206.65it/s]\u001B[A\n",
      "Validation DataLoader 0:  86%|████████▋ | 170/197 [00:00<00:00, 206.78it/s]\u001B[A\n",
      "Validation DataLoader 0:  87%|████████▋ | 171/197 [00:00<00:00, 206.91it/s]\u001B[A\n",
      "Validation DataLoader 0:  87%|████████▋ | 172/197 [00:00<00:00, 206.99it/s]\u001B[A\n",
      "Validation DataLoader 0:  88%|████████▊ | 173/197 [00:00<00:00, 207.11it/s]\u001B[A\n",
      "Validation DataLoader 0:  88%|████████▊ | 174/197 [00:00<00:00, 207.31it/s]\u001B[A\n",
      "Validation DataLoader 0:  89%|████████▉ | 175/197 [00:00<00:00, 207.41it/s]\u001B[A\n",
      "Validation DataLoader 0:  89%|████████▉ | 176/197 [00:00<00:00, 207.50it/s]\u001B[A\n",
      "Validation DataLoader 0:  90%|████████▉ | 177/197 [00:00<00:00, 207.46it/s]\u001B[A\n",
      "Validation DataLoader 0:  90%|█████████ | 178/197 [00:00<00:00, 207.59it/s]\u001B[A\n",
      "Validation DataLoader 0:  91%|█████████ | 179/197 [00:00<00:00, 207.69it/s]\u001B[A\n",
      "Validation DataLoader 0:  91%|█████████▏| 180/197 [00:00<00:00, 207.86it/s]\u001B[A\n",
      "Validation DataLoader 0:  92%|█████████▏| 181/197 [00:00<00:00, 208.03it/s]\u001B[A\n",
      "Validation DataLoader 0:  92%|█████████▏| 182/197 [00:00<00:00, 208.14it/s]\u001B[A\n",
      "Validation DataLoader 0:  93%|█████████▎| 183/197 [00:00<00:00, 208.01it/s]\u001B[A\n",
      "Validation DataLoader 0:  93%|█████████▎| 184/197 [00:00<00:00, 208.14it/s]\u001B[A\n",
      "Validation DataLoader 0:  94%|█████████▍| 185/197 [00:00<00:00, 207.81it/s]\u001B[A\n",
      "Validation DataLoader 0:  94%|█████████▍| 186/197 [00:00<00:00, 207.90it/s]\u001B[A\n",
      "Validation DataLoader 0:  95%|█████████▍| 187/197 [00:00<00:00, 208.02it/s]\u001B[A\n",
      "Validation DataLoader 0:  95%|█████████▌| 188/197 [00:00<00:00, 208.14it/s]\u001B[A\n",
      "Validation DataLoader 0:  96%|█████████▌| 189/197 [00:00<00:00, 208.27it/s]\u001B[A\n",
      "Validation DataLoader 0:  96%|█████████▋| 190/197 [00:00<00:00, 208.45it/s]\u001B[A\n",
      "Validation DataLoader 0:  97%|█████████▋| 191/197 [00:00<00:00, 208.61it/s]\u001B[A\n",
      "Validation DataLoader 0:  97%|█████████▋| 192/197 [00:00<00:00, 208.25it/s]\u001B[A\n",
      "Validation DataLoader 0:  98%|█████████▊| 193/197 [00:00<00:00, 208.36it/s]\u001B[A\n",
      "Validation DataLoader 0:  98%|█████████▊| 194/197 [00:00<00:00, 208.40it/s]\u001B[A\n",
      "Validation DataLoader 0:  99%|█████████▉| 195/197 [00:00<00:00, 208.20it/s]\u001B[A\n",
      "Validation DataLoader 0:  99%|█████████▉| 196/197 [00:00<00:00, 208.27it/s]\u001B[A\n",
      "Validation DataLoader 0: 100%|██████████| 197/197 [00:00<00:00, 208.40it/s]\u001B[A\n",
      "Epoch 0: 100%|██████████| 919/919 [00:05<00:00, 160.77it/s, v_num=1, val_loss=0.178, val_accuracy=0.945]"
     ]
    },
    {
     "name": "stderr",
     "output_type": "stream",
     "text": [
      "Metric val_loss improved. New best score: 0.178\n"
     ]
    },
    {
     "name": "stdout",
     "output_type": "stream",
     "text": [
      "Epoch 1: 100%|██████████| 919/919 [00:04<00:00, 193.85it/s, v_num=1, val_loss=0.178, val_accuracy=0.945]\n",
      "Validation: |          | 0/? [00:00<?, ?it/s]\u001B[A\n",
      "Validation:   0%|          | 0/197 [00:00<?, ?it/s]\u001B[A\n",
      "Validation DataLoader 0:   0%|          | 0/197 [00:00<?, ?it/s]\u001B[A\n",
      "Validation DataLoader 0:   1%|          | 1/197 [00:00<00:00, 280.18it/s]\u001B[A\n",
      "Validation DataLoader 0:   1%|          | 2/197 [00:00<00:00, 241.58it/s]\u001B[A\n",
      "Validation DataLoader 0:   2%|▏         | 3/197 [00:00<00:00, 239.98it/s]\u001B[A\n",
      "Validation DataLoader 0:   2%|▏         | 4/197 [00:00<00:00, 223.23it/s]\u001B[A\n",
      "Validation DataLoader 0:   3%|▎         | 5/197 [00:00<00:00, 224.30it/s]\u001B[A\n",
      "Validation DataLoader 0:   3%|▎         | 6/197 [00:00<00:00, 226.91it/s]\u001B[A\n",
      "Validation DataLoader 0:   4%|▎         | 7/197 [00:00<00:00, 222.14it/s]\u001B[A\n",
      "Validation DataLoader 0:   4%|▍         | 8/197 [00:00<00:00, 224.98it/s]\u001B[A\n",
      "Validation DataLoader 0:   5%|▍         | 9/197 [00:00<00:00, 225.37it/s]\u001B[A\n",
      "Validation DataLoader 0:   5%|▌         | 10/197 [00:00<00:00, 226.99it/s]\u001B[A\n",
      "Validation DataLoader 0:   6%|▌         | 11/197 [00:00<00:00, 228.89it/s]\u001B[A\n",
      "Validation DataLoader 0:   6%|▌         | 12/197 [00:00<00:00, 230.61it/s]\u001B[A\n",
      "Validation DataLoader 0:   7%|▋         | 13/197 [00:00<00:00, 223.35it/s]\u001B[A\n",
      "Validation DataLoader 0:   7%|▋         | 14/197 [00:00<00:00, 223.25it/s]\u001B[A\n",
      "Validation DataLoader 0:   8%|▊         | 15/197 [00:00<00:00, 220.73it/s]\u001B[A\n",
      "Validation DataLoader 0:   8%|▊         | 16/197 [00:00<00:00, 221.50it/s]\u001B[A\n",
      "Validation DataLoader 0:   9%|▊         | 17/197 [00:00<00:00, 220.50it/s]\u001B[A\n",
      "Validation DataLoader 0:   9%|▉         | 18/197 [00:00<00:00, 218.51it/s]\u001B[A\n",
      "Validation DataLoader 0:  10%|▉         | 19/197 [00:00<00:00, 217.71it/s]\u001B[A\n",
      "Validation DataLoader 0:  10%|█         | 20/197 [00:00<00:00, 218.01it/s]\u001B[A\n",
      "Validation DataLoader 0:  11%|█         | 21/197 [00:00<00:00, 219.32it/s]\u001B[A\n",
      "Validation DataLoader 0:  11%|█         | 22/197 [00:00<00:00, 217.98it/s]\u001B[A\n",
      "Validation DataLoader 0:  12%|█▏        | 23/197 [00:00<00:00, 214.31it/s]\u001B[A\n",
      "Validation DataLoader 0:  12%|█▏        | 24/197 [00:00<00:00, 215.00it/s]\u001B[A\n",
      "Validation DataLoader 0:  13%|█▎        | 25/197 [00:00<00:00, 215.73it/s]\u001B[A\n",
      "Validation DataLoader 0:  13%|█▎        | 26/197 [00:00<00:00, 215.09it/s]\u001B[A\n",
      "Validation DataLoader 0:  14%|█▎        | 27/197 [00:00<00:00, 215.94it/s]\u001B[A\n",
      "Validation DataLoader 0:  14%|█▍        | 28/197 [00:00<00:00, 216.60it/s]\u001B[A\n",
      "Validation DataLoader 0:  15%|█▍        | 29/197 [00:00<00:00, 215.47it/s]\u001B[A\n",
      "Validation DataLoader 0:  15%|█▌        | 30/197 [00:00<00:00, 215.32it/s]\u001B[A\n",
      "Validation DataLoader 0:  16%|█▌        | 31/197 [00:00<00:00, 213.65it/s]\u001B[A\n",
      "Validation DataLoader 0:  16%|█▌        | 32/197 [00:00<00:00, 213.82it/s]\u001B[A\n",
      "Validation DataLoader 0:  17%|█▋        | 33/197 [00:00<00:00, 214.34it/s]\u001B[A\n",
      "Validation DataLoader 0:  17%|█▋        | 34/197 [00:00<00:00, 214.58it/s]\u001B[A\n",
      "Validation DataLoader 0:  18%|█▊        | 35/197 [00:00<00:00, 214.96it/s]\u001B[A\n",
      "Validation DataLoader 0:  18%|█▊        | 36/197 [00:00<00:00, 213.92it/s]\u001B[A\n",
      "Validation DataLoader 0:  19%|█▉        | 37/197 [00:00<00:00, 214.25it/s]\u001B[A\n",
      "Validation DataLoader 0:  19%|█▉        | 38/197 [00:00<00:00, 213.68it/s]\u001B[A\n",
      "Validation DataLoader 0:  20%|█▉        | 39/197 [00:00<00:00, 210.66it/s]\u001B[A\n",
      "Validation DataLoader 0:  20%|██        | 40/197 [00:00<00:00, 210.85it/s]\u001B[A\n",
      "Validation DataLoader 0:  21%|██        | 41/197 [00:00<00:00, 211.25it/s]\u001B[A\n",
      "Validation DataLoader 0:  21%|██▏       | 42/197 [00:00<00:00, 211.51it/s]\u001B[A\n",
      "Validation DataLoader 0:  22%|██▏       | 43/197 [00:00<00:00, 211.85it/s]\u001B[A\n",
      "Validation DataLoader 0:  22%|██▏       | 44/197 [00:00<00:00, 211.34it/s]\u001B[A\n",
      "Validation DataLoader 0:  23%|██▎       | 45/197 [00:00<00:00, 211.71it/s]\u001B[A\n",
      "Validation DataLoader 0:  23%|██▎       | 46/197 [00:00<00:00, 211.00it/s]\u001B[A\n",
      "Validation DataLoader 0:  24%|██▍       | 47/197 [00:00<00:00, 211.48it/s]\u001B[A\n",
      "Validation DataLoader 0:  24%|██▍       | 48/197 [00:00<00:00, 212.10it/s]\u001B[A\n",
      "Validation DataLoader 0:  25%|██▍       | 49/197 [00:00<00:00, 212.60it/s]\u001B[A\n",
      "Validation DataLoader 0:  25%|██▌       | 50/197 [00:00<00:00, 213.28it/s]\u001B[A\n",
      "Validation DataLoader 0:  26%|██▌       | 51/197 [00:00<00:00, 213.48it/s]\u001B[A\n",
      "Validation DataLoader 0:  26%|██▋       | 52/197 [00:00<00:00, 212.52it/s]\u001B[A\n",
      "Validation DataLoader 0:  27%|██▋       | 53/197 [00:00<00:00, 212.80it/s]\u001B[A\n",
      "Validation DataLoader 0:  27%|██▋       | 54/197 [00:00<00:00, 213.23it/s]\u001B[A\n",
      "Validation DataLoader 0:  28%|██▊       | 55/197 [00:00<00:00, 213.53it/s]\u001B[A\n",
      "Validation DataLoader 0:  28%|██▊       | 56/197 [00:00<00:00, 214.02it/s]\u001B[A\n",
      "Validation DataLoader 0:  29%|██▉       | 57/197 [00:00<00:00, 213.41it/s]\u001B[A\n",
      "Validation DataLoader 0:  29%|██▉       | 58/197 [00:00<00:00, 213.24it/s]\u001B[A\n",
      "Validation DataLoader 0:  30%|██▉       | 59/197 [00:00<00:00, 213.31it/s]\u001B[A\n",
      "Validation DataLoader 0:  30%|███       | 60/197 [00:00<00:00, 212.15it/s]\u001B[A\n",
      "Validation DataLoader 0:  31%|███       | 61/197 [00:00<00:00, 212.32it/s]\u001B[A\n",
      "Validation DataLoader 0:  31%|███▏      | 62/197 [00:00<00:00, 212.45it/s]\u001B[A\n",
      "Validation DataLoader 0:  32%|███▏      | 63/197 [00:00<00:00, 212.50it/s]\u001B[A\n",
      "Validation DataLoader 0:  32%|███▏      | 64/197 [00:00<00:00, 212.54it/s]\u001B[A\n",
      "Validation DataLoader 0:  33%|███▎      | 65/197 [00:00<00:00, 212.46it/s]\u001B[A\n",
      "Validation DataLoader 0:  34%|███▎      | 66/197 [00:00<00:00, 212.64it/s]\u001B[A\n",
      "Validation DataLoader 0:  34%|███▍      | 67/197 [00:00<00:00, 212.89it/s]\u001B[A\n",
      "Validation DataLoader 0:  35%|███▍      | 68/197 [00:00<00:00, 213.18it/s]\u001B[A\n",
      "Validation DataLoader 0:  35%|███▌      | 69/197 [00:00<00:00, 213.60it/s]\u001B[A\n",
      "Validation DataLoader 0:  36%|███▌      | 70/197 [00:00<00:00, 213.73it/s]\u001B[A\n",
      "Validation DataLoader 0:  36%|███▌      | 71/197 [00:00<00:00, 213.82it/s]\u001B[A\n",
      "Validation DataLoader 0:  37%|███▋      | 72/197 [00:00<00:00, 214.10it/s]\u001B[A\n",
      "Validation DataLoader 0:  37%|███▋      | 73/197 [00:00<00:00, 214.35it/s]\u001B[A\n",
      "Validation DataLoader 0:  38%|███▊      | 74/197 [00:00<00:00, 214.67it/s]\u001B[A\n",
      "Validation DataLoader 0:  38%|███▊      | 75/197 [00:00<00:00, 212.73it/s]\u001B[A\n",
      "Validation DataLoader 0:  39%|███▊      | 76/197 [00:00<00:00, 212.69it/s]\u001B[A\n",
      "Validation DataLoader 0:  39%|███▉      | 77/197 [00:00<00:00, 212.59it/s]\u001B[A\n",
      "Validation DataLoader 0:  40%|███▉      | 78/197 [00:00<00:00, 212.19it/s]\u001B[A\n",
      "Validation DataLoader 0:  40%|████      | 79/197 [00:00<00:00, 212.48it/s]\u001B[A\n",
      "Validation DataLoader 0:  41%|████      | 80/197 [00:00<00:00, 211.87it/s]\u001B[A\n",
      "Validation DataLoader 0:  41%|████      | 81/197 [00:00<00:00, 211.87it/s]\u001B[A\n",
      "Validation DataLoader 0:  42%|████▏     | 82/197 [00:00<00:00, 212.13it/s]\u001B[A\n",
      "Validation DataLoader 0:  42%|████▏     | 83/197 [00:00<00:00, 212.03it/s]\u001B[A\n",
      "Validation DataLoader 0:  43%|████▎     | 84/197 [00:00<00:00, 212.24it/s]\u001B[A\n",
      "Validation DataLoader 0:  43%|████▎     | 85/197 [00:00<00:00, 211.86it/s]\u001B[A\n",
      "Validation DataLoader 0:  44%|████▎     | 86/197 [00:00<00:00, 212.05it/s]\u001B[A\n",
      "Validation DataLoader 0:  44%|████▍     | 87/197 [00:00<00:00, 212.33it/s]\u001B[A\n",
      "Validation DataLoader 0:  45%|████▍     | 88/197 [00:00<00:00, 212.18it/s]\u001B[A\n",
      "Validation DataLoader 0:  45%|████▌     | 89/197 [00:00<00:00, 212.44it/s]\u001B[A\n",
      "Validation DataLoader 0:  46%|████▌     | 90/197 [00:00<00:00, 212.33it/s]\u001B[A\n",
      "Validation DataLoader 0:  46%|████▌     | 91/197 [00:00<00:00, 212.05it/s]\u001B[A\n",
      "Validation DataLoader 0:  47%|████▋     | 92/197 [00:00<00:00, 211.71it/s]\u001B[A\n",
      "Validation DataLoader 0:  47%|████▋     | 93/197 [00:00<00:00, 212.01it/s]\u001B[A\n",
      "Validation DataLoader 0:  48%|████▊     | 94/197 [00:00<00:00, 212.15it/s]\u001B[A\n",
      "Validation DataLoader 0:  48%|████▊     | 95/197 [00:00<00:00, 212.12it/s]\u001B[A\n",
      "Validation DataLoader 0:  49%|████▊     | 96/197 [00:00<00:00, 211.83it/s]\u001B[A\n",
      "Validation DataLoader 0:  49%|████▉     | 97/197 [00:00<00:00, 211.91it/s]\u001B[A\n",
      "Validation DataLoader 0:  50%|████▉     | 98/197 [00:00<00:00, 211.89it/s]\u001B[A\n",
      "Validation DataLoader 0:  50%|█████     | 99/197 [00:00<00:00, 211.54it/s]\u001B[A\n",
      "Validation DataLoader 0:  51%|█████     | 100/197 [00:00<00:00, 211.77it/s]\u001B[A\n",
      "Validation DataLoader 0:  51%|█████▏    | 101/197 [00:00<00:00, 212.08it/s]\u001B[A\n",
      "Validation DataLoader 0:  52%|█████▏    | 102/197 [00:00<00:00, 211.70it/s]\u001B[A\n",
      "Validation DataLoader 0:  52%|█████▏    | 103/197 [00:00<00:00, 211.92it/s]\u001B[A\n",
      "Validation DataLoader 0:  53%|█████▎    | 104/197 [00:00<00:00, 212.02it/s]\u001B[A\n",
      "Validation DataLoader 0:  53%|█████▎    | 105/197 [00:00<00:00, 211.67it/s]\u001B[A\n",
      "Validation DataLoader 0:  54%|█████▍    | 106/197 [00:00<00:00, 211.40it/s]\u001B[A\n",
      "Validation DataLoader 0:  54%|█████▍    | 107/197 [00:00<00:00, 211.41it/s]\u001B[A\n",
      "Validation DataLoader 0:  55%|█████▍    | 108/197 [00:00<00:00, 211.57it/s]\u001B[A\n",
      "Validation DataLoader 0:  55%|█████▌    | 109/197 [00:00<00:00, 211.90it/s]\u001B[A\n",
      "Validation DataLoader 0:  56%|█████▌    | 110/197 [00:00<00:00, 212.15it/s]\u001B[A\n",
      "Validation DataLoader 0:  56%|█████▋    | 111/197 [00:00<00:00, 212.42it/s]\u001B[A\n",
      "Validation DataLoader 0:  57%|█████▋    | 112/197 [00:00<00:00, 212.29it/s]\u001B[A\n",
      "Validation DataLoader 0:  57%|█████▋    | 113/197 [00:00<00:00, 212.56it/s]\u001B[A\n",
      "Validation DataLoader 0:  58%|█████▊    | 114/197 [00:00<00:00, 212.33it/s]\u001B[A\n",
      "Validation DataLoader 0:  58%|█████▊    | 115/197 [00:00<00:00, 212.19it/s]\u001B[A\n",
      "Validation DataLoader 0:  59%|█████▉    | 116/197 [00:00<00:00, 212.45it/s]\u001B[A\n",
      "Validation DataLoader 0:  59%|█████▉    | 117/197 [00:00<00:00, 212.16it/s]\u001B[A\n",
      "Validation DataLoader 0:  60%|█████▉    | 118/197 [00:00<00:00, 212.38it/s]\u001B[A\n",
      "Validation DataLoader 0:  60%|██████    | 119/197 [00:00<00:00, 212.56it/s]\u001B[A\n",
      "Validation DataLoader 0:  61%|██████    | 120/197 [00:00<00:00, 212.27it/s]\u001B[A\n",
      "Validation DataLoader 0:  61%|██████▏   | 121/197 [00:00<00:00, 212.12it/s]\u001B[A\n",
      "Validation DataLoader 0:  62%|██████▏   | 122/197 [00:00<00:00, 212.30it/s]\u001B[A\n",
      "Validation DataLoader 0:  62%|██████▏   | 123/197 [00:00<00:00, 212.59it/s]\u001B[A\n",
      "Validation DataLoader 0:  63%|██████▎   | 124/197 [00:00<00:00, 212.32it/s]\u001B[A\n",
      "Validation DataLoader 0:  63%|██████▎   | 125/197 [00:00<00:00, 212.12it/s]\u001B[A\n",
      "Validation DataLoader 0:  64%|██████▍   | 126/197 [00:00<00:00, 212.31it/s]\u001B[A\n",
      "Validation DataLoader 0:  64%|██████▍   | 127/197 [00:00<00:00, 212.48it/s]\u001B[A\n",
      "Validation DataLoader 0:  65%|██████▍   | 128/197 [00:00<00:00, 212.76it/s]\u001B[A\n",
      "Validation DataLoader 0:  65%|██████▌   | 129/197 [00:00<00:00, 213.02it/s]\u001B[A\n",
      "Validation DataLoader 0:  66%|██████▌   | 130/197 [00:00<00:00, 213.16it/s]\u001B[A\n",
      "Validation DataLoader 0:  66%|██████▋   | 131/197 [00:00<00:00, 213.41it/s]\u001B[A\n",
      "Validation DataLoader 0:  67%|██████▋   | 132/197 [00:00<00:00, 213.23it/s]\u001B[A\n",
      "Validation DataLoader 0:  68%|██████▊   | 133/197 [00:00<00:00, 213.17it/s]\u001B[A\n",
      "Validation DataLoader 0:  68%|██████▊   | 134/197 [00:00<00:00, 213.45it/s]\u001B[A\n",
      "Validation DataLoader 0:  69%|██████▊   | 135/197 [00:00<00:00, 213.50it/s]\u001B[A\n",
      "Validation DataLoader 0:  69%|██████▉   | 136/197 [00:00<00:00, 213.32it/s]\u001B[A\n",
      "Validation DataLoader 0:  70%|██████▉   | 137/197 [00:00<00:00, 213.29it/s]\u001B[A\n",
      "Validation DataLoader 0:  70%|███████   | 138/197 [00:00<00:00, 213.44it/s]\u001B[A\n",
      "Validation DataLoader 0:  71%|███████   | 139/197 [00:00<00:00, 213.29it/s]\u001B[A\n",
      "Validation DataLoader 0:  71%|███████   | 140/197 [00:00<00:00, 213.05it/s]\u001B[A\n",
      "Validation DataLoader 0:  72%|███████▏  | 141/197 [00:00<00:00, 213.01it/s]\u001B[A\n",
      "Validation DataLoader 0:  72%|███████▏  | 142/197 [00:00<00:00, 213.20it/s]\u001B[A\n",
      "Validation DataLoader 0:  73%|███████▎  | 143/197 [00:00<00:00, 213.26it/s]\u001B[A\n",
      "Validation DataLoader 0:  73%|███████▎  | 144/197 [00:00<00:00, 213.30it/s]\u001B[A\n",
      "Validation DataLoader 0:  74%|███████▎  | 145/197 [00:00<00:00, 213.28it/s]\u001B[A\n",
      "Validation DataLoader 0:  74%|███████▍  | 146/197 [00:00<00:00, 213.33it/s]\u001B[A\n",
      "Validation DataLoader 0:  75%|███████▍  | 147/197 [00:00<00:00, 213.50it/s]\u001B[A\n",
      "Validation DataLoader 0:  75%|███████▌  | 148/197 [00:00<00:00, 213.34it/s]\u001B[A\n",
      "Validation DataLoader 0:  76%|███████▌  | 149/197 [00:00<00:00, 213.57it/s]\u001B[A\n",
      "Validation DataLoader 0:  76%|███████▌  | 150/197 [00:00<00:00, 213.78it/s]\u001B[A\n",
      "Validation DataLoader 0:  77%|███████▋  | 151/197 [00:00<00:00, 213.89it/s]\u001B[A\n",
      "Validation DataLoader 0:  77%|███████▋  | 152/197 [00:00<00:00, 213.98it/s]\u001B[A\n",
      "Validation DataLoader 0:  78%|███████▊  | 153/197 [00:00<00:00, 214.13it/s]\u001B[A\n",
      "Validation DataLoader 0:  78%|███████▊  | 154/197 [00:00<00:00, 213.80it/s]\u001B[A\n",
      "Validation DataLoader 0:  79%|███████▊  | 155/197 [00:00<00:00, 213.87it/s]\u001B[A\n",
      "Validation DataLoader 0:  79%|███████▉  | 156/197 [00:00<00:00, 214.04it/s]\u001B[A\n",
      "Validation DataLoader 0:  80%|███████▉  | 157/197 [00:00<00:00, 213.90it/s]\u001B[A\n",
      "Validation DataLoader 0:  80%|████████  | 158/197 [00:00<00:00, 214.07it/s]\u001B[A\n",
      "Validation DataLoader 0:  81%|████████  | 159/197 [00:00<00:00, 214.19it/s]\u001B[A\n",
      "Validation DataLoader 0:  81%|████████  | 160/197 [00:00<00:00, 214.35it/s]\u001B[A\n",
      "Validation DataLoader 0:  82%|████████▏ | 161/197 [00:00<00:00, 214.24it/s]\u001B[A\n",
      "Validation DataLoader 0:  82%|████████▏ | 162/197 [00:00<00:00, 214.29it/s]\u001B[A\n",
      "Validation DataLoader 0:  83%|████████▎ | 163/197 [00:00<00:00, 214.27it/s]\u001B[A\n",
      "Validation DataLoader 0:  83%|████████▎ | 164/197 [00:00<00:00, 214.41it/s]\u001B[A\n",
      "Validation DataLoader 0:  84%|████████▍ | 165/197 [00:00<00:00, 214.16it/s]\u001B[A\n",
      "Validation DataLoader 0:  84%|████████▍ | 166/197 [00:00<00:00, 214.22it/s]\u001B[A\n",
      "Validation DataLoader 0:  85%|████████▍ | 167/197 [00:00<00:00, 214.20it/s]\u001B[A\n",
      "Validation DataLoader 0:  85%|████████▌ | 168/197 [00:00<00:00, 213.97it/s]\u001B[A\n",
      "Validation DataLoader 0:  86%|████████▌ | 169/197 [00:00<00:00, 214.08it/s]\u001B[A\n",
      "Validation DataLoader 0:  86%|████████▋ | 170/197 [00:00<00:00, 214.12it/s]\u001B[A\n",
      "Validation DataLoader 0:  87%|████████▋ | 171/197 [00:00<00:00, 214.00it/s]\u001B[A\n",
      "Validation DataLoader 0:  87%|████████▋ | 172/197 [00:00<00:00, 213.84it/s]\u001B[A\n",
      "Validation DataLoader 0:  88%|████████▊ | 173/197 [00:00<00:00, 213.93it/s]\u001B[A\n",
      "Validation DataLoader 0:  88%|████████▊ | 174/197 [00:00<00:00, 213.66it/s]\u001B[A\n",
      "Validation DataLoader 0:  89%|████████▉ | 175/197 [00:00<00:00, 213.76it/s]\u001B[A\n",
      "Validation DataLoader 0:  89%|████████▉ | 176/197 [00:00<00:00, 213.57it/s]\u001B[A\n",
      "Validation DataLoader 0:  90%|████████▉ | 177/197 [00:00<00:00, 213.67it/s]\u001B[A\n",
      "Validation DataLoader 0:  90%|█████████ | 178/197 [00:00<00:00, 213.80it/s]\u001B[A\n",
      "Validation DataLoader 0:  91%|█████████ | 179/197 [00:00<00:00, 213.91it/s]\u001B[A\n",
      "Validation DataLoader 0:  91%|█████████▏| 180/197 [00:00<00:00, 213.87it/s]\u001B[A\n",
      "Validation DataLoader 0:  92%|█████████▏| 181/197 [00:00<00:00, 214.01it/s]\u001B[A\n",
      "Validation DataLoader 0:  92%|█████████▏| 182/197 [00:00<00:00, 213.82it/s]\u001B[A\n",
      "Validation DataLoader 0:  93%|█████████▎| 183/197 [00:00<00:00, 213.97it/s]\u001B[A\n",
      "Validation DataLoader 0:  93%|█████████▎| 184/197 [00:00<00:00, 214.13it/s]\u001B[A\n",
      "Validation DataLoader 0:  94%|█████████▍| 185/197 [00:00<00:00, 214.05it/s]\u001B[A\n",
      "Validation DataLoader 0:  94%|█████████▍| 186/197 [00:00<00:00, 214.15it/s]\u001B[A\n",
      "Validation DataLoader 0:  95%|█████████▍| 187/197 [00:00<00:00, 214.21it/s]\u001B[A\n",
      "Validation DataLoader 0:  95%|█████████▌| 188/197 [00:00<00:00, 213.98it/s]\u001B[A\n",
      "Validation DataLoader 0:  96%|█████████▌| 189/197 [00:00<00:00, 213.67it/s]\u001B[A\n",
      "Validation DataLoader 0:  96%|█████████▋| 190/197 [00:00<00:00, 213.83it/s]\u001B[A\n",
      "Validation DataLoader 0:  97%|█████████▋| 191/197 [00:00<00:00, 213.45it/s]\u001B[A\n",
      "Validation DataLoader 0:  97%|█████████▋| 192/197 [00:00<00:00, 213.50it/s]\u001B[A\n",
      "Validation DataLoader 0:  98%|█████████▊| 193/197 [00:00<00:00, 213.60it/s]\u001B[A\n",
      "Validation DataLoader 0:  98%|█████████▊| 194/197 [00:00<00:00, 213.63it/s]\u001B[A\n",
      "Validation DataLoader 0:  99%|█████████▉| 195/197 [00:00<00:00, 213.71it/s]\u001B[A\n",
      "Validation DataLoader 0:  99%|█████████▉| 196/197 [00:00<00:00, 213.59it/s]\u001B[A\n",
      "Validation DataLoader 0: 100%|██████████| 197/197 [00:00<00:00, 213.69it/s]\u001B[A\n",
      "Epoch 1: 100%|██████████| 919/919 [00:05<00:00, 162.00it/s, v_num=1, val_loss=0.148, val_accuracy=0.956]"
     ]
    },
    {
     "name": "stderr",
     "output_type": "stream",
     "text": [
      "Metric val_loss improved by 0.030 >= min_delta = 0.0. New best score: 0.148\n",
      "`Trainer.fit` stopped: `max_epochs=2` reached.\n"
     ]
    },
    {
     "name": "stdout",
     "output_type": "stream",
     "text": [
      "Epoch 1: 100%|██████████| 919/919 [00:05<00:00, 161.74it/s, v_num=1, val_loss=0.148, val_accuracy=0.956]\n"
     ]
    }
   ],
   "execution_count": 64
  }
 ],
 "metadata": {
  "kernelspec": {
   "display_name": "Python 3",
   "language": "python",
   "name": "python3"
  },
  "language_info": {
   "codemirror_mode": {
    "name": "ipython",
    "version": 2
   },
   "file_extension": ".py",
   "mimetype": "text/x-python",
   "name": "python",
   "nbconvert_exporter": "python",
   "pygments_lexer": "ipython2",
   "version": "2.7.6"
  }
 },
 "nbformat": 4,
 "nbformat_minor": 5
}
