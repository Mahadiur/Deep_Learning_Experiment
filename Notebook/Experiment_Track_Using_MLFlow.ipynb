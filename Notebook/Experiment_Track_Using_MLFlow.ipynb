{
 "cells": [
  {
   "metadata": {},
   "cell_type": "markdown",
   "source": "# **Experiment Track with using MLFlow**",
   "id": "a475f08938d34721"
  },
  {
   "metadata": {
    "ExecuteTime": {
     "end_time": "2025-08-27T09:45:29.680912Z",
     "start_time": "2025-08-27T09:45:26.054899Z"
    }
   },
   "cell_type": "code",
   "source": [
    "''' Import all important libraries '''\n",
    "import os\n",
    "import pandas as pd\n",
    "import numpy as np\n",
    "import torch\n",
    "import torch.nn as nn\n",
    "from torchvision import transforms\n",
    "from torch.utils.data import DataLoader, dataset\n"
   ],
   "id": "da5a6179c1c5ce61",
   "outputs": [],
   "execution_count": 1
  }
 ],
 "metadata": {
  "kernelspec": {
   "display_name": "Python 3",
   "language": "python",
   "name": "python3"
  },
  "language_info": {
   "codemirror_mode": {
    "name": "ipython",
    "version": 2
   },
   "file_extension": ".py",
   "mimetype": "text/x-python",
   "name": "python",
   "nbconvert_exporter": "python",
   "pygments_lexer": "ipython2",
   "version": "2.7.6"
  }
 },
 "nbformat": 4,
 "nbformat_minor": 5
}
