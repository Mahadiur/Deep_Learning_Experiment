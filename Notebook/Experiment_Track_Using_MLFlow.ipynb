{
 "cells": [
  {
   "metadata": {},
   "cell_type": "markdown",
   "source": "# **Experiment Track with using MLFlow**",
   "id": "a475f08938d34721"
  },
  {
   "metadata": {
    "ExecuteTime": {
     "end_time": "2025-08-27T11:12:09.181927Z",
     "start_time": "2025-08-27T11:12:09.178895Z"
    }
   },
   "cell_type": "code",
   "source": [
    "''' Import all important libraries '''\n",
    "import os\n",
    "import pandas as pd\n",
    "import numpy as np\n",
    "import torch\n",
    "import torch.nn as nn\n",
    "from torchvision import transforms\n",
    "from torch.utils.data import DataLoader, Dataset, random_split\n",
    "from pytorch_lightning.callbacks import ModelCheckpoint, EarlyStopping\n",
    "import pytorch_lightning as pl\n",
    "from mlflow.models import infer_signature"
   ],
   "id": "da5a6179c1c5ce61",
   "outputs": [],
   "execution_count": 31
  },
  {
   "metadata": {
    "ExecuteTime": {
     "end_time": "2025-08-27T11:12:09.190610Z",
     "start_time": "2025-08-27T11:12:09.187464Z"
    }
   },
   "cell_type": "code",
   "source": [
    "torch.manual_seed(40)\n",
    "Device = torch.device(\"cuda\" if torch.cuda.is_available() else \"cpu\")\n",
    "print(f'Using Device: {Device}')"
   ],
   "id": "e71e998ec1098023",
   "outputs": [
    {
     "name": "stdout",
     "output_type": "stream",
     "text": [
      "Using Device: cpu\n"
     ]
    }
   ],
   "execution_count": 32
  },
  {
   "metadata": {
    "ExecuteTime": {
     "end_time": "2025-08-27T11:12:09.199836Z",
     "start_time": "2025-08-27T11:12:09.197934Z"
    }
   },
   "cell_type": "code",
   "source": [
    "''' Load data and define Source code path '''\n",
    "Root_path = '/Users/mahadiur/Desktop/Experiment Track Using MLFlow/Data'\n",
    "dataset_path = os.path.join(Root_path, 'DigitDataset.csv')\n",
    "\n",
    "saved_model_dir = 'models'\n",
    "source_code_path = os.path.join(\n",
    "    os.getcwd(),\n",
    "    'Experiment_Track_Using_MLFlow.ipynb'\n",
    ") # current file path\n",
    "\n",
    "source_code = 'trainer.ipynb'"
   ],
   "id": "e48339de396455bd",
   "outputs": [],
   "execution_count": 33
  },
  {
   "metadata": {},
   "cell_type": "markdown",
   "source": "# **Data Pipeline**",
   "id": "a6cef2a99b7b9947"
  },
  {
   "metadata": {
    "ExecuteTime": {
     "end_time": "2025-08-27T11:12:09.205629Z",
     "start_time": "2025-08-27T11:12:09.203374Z"
    }
   },
   "cell_type": "code",
   "source": [
    "class DataPipeline(Dataset):\n",
    "    def __init__(self, data_path, transform=None):\n",
    "        super().__init__()\n",
    "        self.data = pd.read_csv(data_path)\n",
    "        self.transformation = transform\n",
    "\n",
    "    def __len__(self):\n",
    "        return len(self.data)\n",
    "\n",
    "    def __getitem__(self, idx):\n",
    "        pixels = self.data[idx].values[1:].astype('float32')\n",
    "        labels = self.data[idx].values[0:1]\n",
    "\n",
    "        pixels = torch.tensor(pixels)\n",
    "        labels = torch.tensor(labels)\n",
    "\n",
    "        pixels = pixels.reshape(28, 28).unsqueeze(0) / 255.0\n",
    "\n",
    "        if self.transformation:\n",
    "            pixels = self.transformation(pixels)\n",
    "\n",
    "        return  pixels, labels"
   ],
   "id": "c8e166660d6b46cf",
   "outputs": [],
   "execution_count": 34
  },
  {
   "metadata": {
    "ExecuteTime": {
     "end_time": "2025-08-27T11:12:09.209248Z",
     "start_time": "2025-08-27T11:12:09.207616Z"
    }
   },
   "cell_type": "code",
   "source": [
    "Transformation = transforms.Compose([\n",
    "    transforms.Normalize(\n",
    "        mean=(torch.tensor([0.1307])),\n",
    "        std=(torch.tensor([0.3081])),\n",
    "    )\n",
    "])"
   ],
   "id": "42f867673fb89c43",
   "outputs": [],
   "execution_count": 35
  },
  {
   "metadata": {
    "ExecuteTime": {
     "end_time": "2025-08-27T11:12:09.751545Z",
     "start_time": "2025-08-27T11:12:09.212797Z"
    }
   },
   "cell_type": "code",
   "source": [
    "dataset = DataPipeline(\n",
    "    dataset_path,\n",
    "    transform=Transformation\n",
    ")\n",
    "\n",
    "print(len(dataset))"
   ],
   "id": "57516332f047fcd",
   "outputs": [
    {
     "name": "stdout",
     "output_type": "stream",
     "text": [
      "42000\n"
     ]
    }
   ],
   "execution_count": 36
  },
  {
   "metadata": {},
   "cell_type": "markdown",
   "source": "# **Split Train, Test & Validation**",
   "id": "1599d9c420d1256a"
  },
  {
   "metadata": {
    "ExecuteTime": {
     "end_time": "2025-08-27T11:12:09.759973Z",
     "start_time": "2025-08-27T11:12:09.757563Z"
    }
   },
   "cell_type": "code",
   "source": [
    "Train_size = int(0.7 * len(dataset))\n",
    "Validation_size = int(0.15 * len(dataset))\n",
    "Test_size = len(dataset) - Train_size - Validation_size\n",
    "\n",
    "Training_dataset, Validation_dataset, Test_dataset = random_split(\n",
    "    dataset=dataset,\n",
    "    lengths=[Train_size, Validation_size, Test_size],\n",
    ")\n",
    "\n",
    "print(len(Training_dataset))\n",
    "print(len(Validation_dataset))\n",
    "print(len(Test_dataset))"
   ],
   "id": "db0ef449c14c1c4d",
   "outputs": [
    {
     "name": "stdout",
     "output_type": "stream",
     "text": [
      "29399\n",
      "6300\n",
      "6301\n"
     ]
    }
   ],
   "execution_count": 37
  },
  {
   "metadata": {},
   "cell_type": "markdown",
   "source": "# **Dataloader for Train, Test & Validation**",
   "id": "342d3f6bb1452324"
  },
  {
   "metadata": {
    "ExecuteTime": {
     "end_time": "2025-08-27T11:12:09.766242Z",
     "start_time": "2025-08-27T11:12:09.764570Z"
    }
   },
   "cell_type": "code",
   "source": [
    "Train_Dataloader = DataLoader(\n",
    "    dataset=Training_dataset,\n",
    "    batch_size=32,\n",
    "    shuffle=True,\n",
    ")\n",
    "\n",
    "Test_Dataloader = DataLoader(\n",
    "    dataset=Test_dataset,\n",
    "    batch_size=32,\n",
    "    shuffle=False,\n",
    ")\n",
    "\n",
    "Validation_Dataloader = DataLoader(\n",
    "    dataset=Validation_dataset,\n",
    "    batch_size=32,\n",
    "    shuffle=False,\n",
    ")"
   ],
   "id": "bb6ec6b0c5666339",
   "outputs": [],
   "execution_count": 38
  }
 ],
 "metadata": {
  "kernelspec": {
   "display_name": "Python 3",
   "language": "python",
   "name": "python3"
  },
  "language_info": {
   "codemirror_mode": {
    "name": "ipython",
    "version": 2
   },
   "file_extension": ".py",
   "mimetype": "text/x-python",
   "name": "python",
   "nbconvert_exporter": "python",
   "pygments_lexer": "ipython2",
   "version": "2.7.6"
  }
 },
 "nbformat": 4,
 "nbformat_minor": 5
}
