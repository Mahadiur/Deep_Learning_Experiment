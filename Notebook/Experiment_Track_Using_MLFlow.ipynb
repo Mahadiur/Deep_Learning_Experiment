{
 "cells": [
  {
   "metadata": {},
   "cell_type": "markdown",
   "source": "# **Experiment Track with using MLFlow**",
   "id": "a475f08938d34721"
  },
  {
   "metadata": {
    "ExecuteTime": {
     "end_time": "2025-08-27T11:29:54.810447Z",
     "start_time": "2025-08-27T11:29:54.807076Z"
    }
   },
   "cell_type": "code",
   "source": [
    "from pytorch_lightning.utilities.types import OptimizerLRScheduler\n",
    "from werkzeug.serving import load_ssl_context\n",
    "\n",
    "''' Import all important libraries '''\n",
    "import os\n",
    "import pandas as pd\n",
    "import numpy as np\n",
    "import torch\n",
    "import torch.nn as nn\n",
    "from torchvision import transforms\n",
    "from torch.utils.data import DataLoader, Dataset, random_split\n",
    "from pytorch_lightning.callbacks import ModelCheckpoint, EarlyStopping\n",
    "import pytorch_lightning as pl\n",
    "from mlflow.models import infer_signature"
   ],
   "id": "da5a6179c1c5ce61",
   "outputs": [],
   "execution_count": 46
  },
  {
   "metadata": {
    "ExecuteTime": {
     "end_time": "2025-08-27T11:29:54.822248Z",
     "start_time": "2025-08-27T11:29:54.818121Z"
    }
   },
   "cell_type": "code",
   "source": [
    "torch.manual_seed(40)\n",
    "Device = torch.device(\"cuda\" if torch.cuda.is_available() else \"cpu\")\n",
    "print(f'Using Device: {Device}')"
   ],
   "id": "e71e998ec1098023",
   "outputs": [
    {
     "name": "stdout",
     "output_type": "stream",
     "text": [
      "Using Device: cpu\n"
     ]
    }
   ],
   "execution_count": 47
  },
  {
   "metadata": {
    "ExecuteTime": {
     "end_time": "2025-08-27T11:29:54.830921Z",
     "start_time": "2025-08-27T11:29:54.829058Z"
    }
   },
   "cell_type": "code",
   "source": [
    "''' Load data and define Source code path '''\n",
    "Root_path = '/Users/mahadiur/Desktop/Experiment Track Using MLFlow/Data'\n",
    "dataset_path = os.path.join(Root_path, 'DigitDataset.csv')\n",
    "\n",
    "saved_model_dir = 'models'\n",
    "source_code_path = os.path.join(\n",
    "    os.getcwd(),\n",
    "    'Experiment_Track_Using_MLFlow.ipynb'\n",
    ") # current file path\n",
    "\n",
    "source_code = 'trainer.ipynb'"
   ],
   "id": "e48339de396455bd",
   "outputs": [],
   "execution_count": 48
  },
  {
   "metadata": {},
   "cell_type": "markdown",
   "source": "# **Data Pipeline**",
   "id": "a6cef2a99b7b9947"
  },
  {
   "metadata": {
    "ExecuteTime": {
     "end_time": "2025-08-27T11:29:55.381306Z",
     "start_time": "2025-08-27T11:29:54.836347Z"
    }
   },
   "cell_type": "code",
   "source": [
    "digit_data = pd.read_csv(dataset_path)\n",
    "idx = 0\n",
    "pixel = digit_data.iloc[idx].values[1:]\n",
    "label = digit_data.iloc[idx].values[0:1]\n",
    "print(pixel.shape)\n",
    "print(label.shape)"
   ],
   "id": "711b876743f235fa",
   "outputs": [
    {
     "name": "stdout",
     "output_type": "stream",
     "text": [
      "(784,)\n",
      "(1,)\n"
     ]
    }
   ],
   "execution_count": 49
  },
  {
   "metadata": {
    "ExecuteTime": {
     "end_time": "2025-08-27T11:29:55.388577Z",
     "start_time": "2025-08-27T11:29:55.386729Z"
    }
   },
   "cell_type": "code",
   "source": [
    "class DataPipeline(Dataset):\n",
    "    def __init__(self, data_path, transform=None):\n",
    "        super().__init__()\n",
    "        self.data = pd.read_csv(data_path)\n",
    "        self.transformation = transform\n",
    "\n",
    "    def __len__(self):\n",
    "        return len(self.data)\n",
    "\n",
    "    def __getitem__(self, idx):\n",
    "        pixels = self.data.iloc[idx].values[1:].astype('float32')\n",
    "        labels = self.data.iloc[idx].values[0:1]\n",
    "\n",
    "        pixels = torch.tensor(pixels)\n",
    "        labels = torch.tensor(labels)\n",
    "\n",
    "        pixels = pixels.reshape(28, 28).unsqueeze(0) / 255.0\n",
    "\n",
    "        if self.transformation:\n",
    "            pixels = self.transformation(pixels)\n",
    "\n",
    "        return  pixels, labels"
   ],
   "id": "c8e166660d6b46cf",
   "outputs": [],
   "execution_count": 50
  },
  {
   "metadata": {
    "ExecuteTime": {
     "end_time": "2025-08-27T11:29:55.391840Z",
     "start_time": "2025-08-27T11:29:55.390473Z"
    }
   },
   "cell_type": "code",
   "source": [
    "Transformation = transforms.Compose([\n",
    "    transforms.Normalize(\n",
    "        mean=(torch.tensor([0.1307])),\n",
    "        std=(torch.tensor([0.3081])),\n",
    "    )\n",
    "])"
   ],
   "id": "42f867673fb89c43",
   "outputs": [],
   "execution_count": 51
  },
  {
   "metadata": {
    "ExecuteTime": {
     "end_time": "2025-08-27T11:29:55.914229Z",
     "start_time": "2025-08-27T11:29:55.394652Z"
    }
   },
   "cell_type": "code",
   "source": [
    "dataset = DataPipeline(\n",
    "    dataset_path,\n",
    "    transform=Transformation\n",
    ")\n",
    "\n",
    "print(len(dataset))"
   ],
   "id": "57516332f047fcd",
   "outputs": [
    {
     "name": "stdout",
     "output_type": "stream",
     "text": [
      "42000\n"
     ]
    }
   ],
   "execution_count": 52
  },
  {
   "metadata": {},
   "cell_type": "markdown",
   "source": "# **Split Train, Test & Validation**",
   "id": "1599d9c420d1256a"
  },
  {
   "metadata": {
    "ExecuteTime": {
     "end_time": "2025-08-27T11:29:55.922505Z",
     "start_time": "2025-08-27T11:29:55.920191Z"
    }
   },
   "cell_type": "code",
   "source": [
    "Train_size = int(0.7 * len(dataset))\n",
    "Validation_size = int(0.15 * len(dataset))\n",
    "Test_size = len(dataset) - Train_size - Validation_size\n",
    "\n",
    "Training_dataset, Validation_dataset, Test_dataset = random_split(\n",
    "    dataset=dataset,\n",
    "    lengths=[Train_size, Validation_size, Test_size],\n",
    ")\n",
    "\n",
    "print(len(Training_dataset))\n",
    "print(len(Validation_dataset))\n",
    "print(len(Test_dataset))"
   ],
   "id": "db0ef449c14c1c4d",
   "outputs": [
    {
     "name": "stdout",
     "output_type": "stream",
     "text": [
      "29399\n",
      "6300\n",
      "6301\n"
     ]
    }
   ],
   "execution_count": 53
  },
  {
   "metadata": {},
   "cell_type": "markdown",
   "source": "# **Dataloader for Train, Test & Validation**",
   "id": "342d3f6bb1452324"
  },
  {
   "metadata": {
    "ExecuteTime": {
     "end_time": "2025-08-27T11:29:55.931712Z",
     "start_time": "2025-08-27T11:29:55.929492Z"
    }
   },
   "cell_type": "code",
   "source": [
    "Train_Dataloader = DataLoader(\n",
    "    dataset=Training_dataset,\n",
    "    batch_size=32,\n",
    "    shuffle=True,\n",
    ")\n",
    "\n",
    "Test_Dataloader = DataLoader(\n",
    "    dataset=Test_dataset,\n",
    "    batch_size=32,\n",
    "    shuffle=False,\n",
    ")\n",
    "\n",
    "Validation_Dataloader = DataLoader(\n",
    "    dataset=Validation_dataset,\n",
    "    batch_size=32,\n",
    "    shuffle=False,\n",
    ")"
   ],
   "id": "bb6ec6b0c5666339",
   "outputs": [],
   "execution_count": 54
  },
  {
   "metadata": {
    "ExecuteTime": {
     "end_time": "2025-08-27T11:30:43.012973Z",
     "start_time": "2025-08-27T11:30:43.001938Z"
    }
   },
   "cell_type": "code",
   "source": [
    "for pixels, labels in Train_Dataloader:\n",
    "    print(pixels.shape)\n",
    "    print(labels.shape)\n",
    "    break"
   ],
   "id": "6d69c84b434dad6f",
   "outputs": [
    {
     "name": "stdout",
     "output_type": "stream",
     "text": [
      "torch.Size([32, 1, 28, 28])\n",
      "torch.Size([32, 1])\n"
     ]
    }
   ],
   "execution_count": 56
  },
  {
   "metadata": {},
   "cell_type": "markdown",
   "source": "# **DigitClassifiar class**",
   "id": "de2a44a1288d2421"
  },
  {
   "metadata": {
    "ExecuteTime": {
     "end_time": "2025-08-27T11:51:05.992923Z",
     "start_time": "2025-08-27T11:51:05.987974Z"
    }
   },
   "cell_type": "code",
   "source": [
    "class DigitClass(pl.LightningModule):\n",
    "    def __init__(self):\n",
    "        super().__init__()\n",
    "        self.criterion = nn.CrossEntropyLoss()\n",
    "        self.layer1 = nn.Linear(28 * 28, 128)\n",
    "        self.layer2 = nn.Linear(128, 10)\n",
    "        self.relu = nn.ReLU()\n",
    "\n",
    "    def forward(self, x):\n",
    "        x = x.view(-1, 28 * 28)\n",
    "        x = self.layer1(x)\n",
    "        x = self.relu(x)\n",
    "        x = self.layer2(x)\n",
    "        return x\n",
    "\n",
    "    # Gradient Decent\n",
    "    def configure_optimizers(self):\n",
    "        optimizer = torch.optim.Adam(self.parameters(), lr=0.001)\n",
    "        return optimizer\n",
    "\n",
    "    # Training Step\n",
    "    def training_step(self, batch, batch_idx):\n",
    "        Training_loss = []\n",
    "        pixels, labels = batch\n",
    "        pixels, labels = pixels.to(Device), labels.to(Device)\n",
    "        outputs = self.forward(pixels)\n",
    "        loss = self.criterion(outputs, labels)\n",
    "        Training_loss.append(loss.item())\n",
    "        self.log('Train_loss', loss)\n",
    "        return loss\n",
    "\n",
    "    # Validation Step\n",
    "    def validation_step(self, batch, batch_idx):\n",
    "        pixels, labels = batch\n",
    "        pixels, labels = pixels.to(Device), labels.to(Device)\n",
    "        outputs = self.forward(pixels)\n",
    "        loss = self.criterion(outputs, labels)\n",
    "        accuracy = (torch.argmax(outputs, dim=1) == labels).float().mean()\n",
    "        self.log('val_loss', loss)\n",
    "        self.log('val_accuracy', accuracy)\n",
    "\n",
    "    # Test Step\n",
    "    def test_step(self, batch, batch_idx):\n",
    "        pixels, labels= batch\n",
    "        pixels, labels = pixels.to(Device), labels.to(Device)\n",
    "        outputs = self.forward(pixels)\n",
    "        loss = self.criterion(outputs, labels)\n",
    "        accuracy = (torch.argmax(outputs, dim=1) == labels).float().mean()\n",
    "        self.log('test_loss', loss)\n",
    "        self.log('test_accuracy', accuracy)"
   ],
   "id": "eb29faacc0f352d0",
   "outputs": [],
   "execution_count": 57
  },
  {
   "metadata": {
    "ExecuteTime": {
     "end_time": "2025-08-27T11:51:26.337367Z",
     "start_time": "2025-08-27T11:51:26.332464Z"
    }
   },
   "cell_type": "code",
   "source": "Model = DigitClass()",
   "id": "c004b72a9643d541",
   "outputs": [],
   "execution_count": 58
  },
  {
   "metadata": {},
   "cell_type": "code",
   "outputs": [],
   "execution_count": null,
   "source": "",
   "id": "a043e59d726bc290"
  }
 ],
 "metadata": {
  "kernelspec": {
   "display_name": "Python 3",
   "language": "python",
   "name": "python3"
  },
  "language_info": {
   "codemirror_mode": {
    "name": "ipython",
    "version": 2
   },
   "file_extension": ".py",
   "mimetype": "text/x-python",
   "name": "python",
   "nbconvert_exporter": "python",
   "pygments_lexer": "ipython2",
   "version": "2.7.6"
  }
 },
 "nbformat": 4,
 "nbformat_minor": 5
}
